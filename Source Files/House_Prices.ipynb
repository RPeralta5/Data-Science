{
 "cells": [
  {
   "cell_type": "markdown",
   "metadata": {},
   "source": [
    "# House Prices\n",
    "#### Ryan Peralta, Jonathan Wang, Yilliang Wu\n",
    "#### CS 4661\n",
    "#### Fall 2019\n",
    "https://www.kaggle.com/c/house-prices-advanced-regression-techniques/overview\n",
    "\n"
   ]
  },
  {
   "cell_type": "code",
   "execution_count": 140,
   "metadata": {},
   "outputs": [],
   "source": [
    "# Importing numpy and pandas and other modules\n",
    "import warnings\n",
    "warnings.filterwarnings(\"ignore\", category=FutureWarning)\n",
    "import numpy as np\n",
    "import pandas as pd\n",
    "from sklearn.linear_model import LinearRegression\n",
    "from sklearn.model_selection import train_test_split\n",
    "from sklearn.metrics import accuracy_score\n",
    "from sklearn.model_selection import cross_val_score\n",
    "from sklearn import metrics\n",
    "from sklearn.preprocessing import LabelEncoder\n",
    "from sklearn.preprocessing import OneHotEncoder\n",
    "from sklearn import preprocessing\n",
    "import matplotlib.pyplot as plt\n",
    "import warnings\n",
    "\n",
    "warnings.simplefilter('ignore')"
   ]
  },
  {
   "cell_type": "markdown",
   "metadata": {},
   "source": [
    "#### Code that will help with graphing results later on"
   ]
  },
  {
   "cell_type": "code",
   "execution_count": 141,
   "metadata": {},
   "outputs": [],
   "source": [
    "#Code for best fit line is found here:\n",
    "#https://stackoverflow.com/questions/22239691/code-for-best-fit-straight-line-of-a-scatter-plot-in-python\n",
    "def best_fit(X, Y):\n",
    "\n",
    "    xbar = sum(X)/len(X)\n",
    "    ybar = sum(Y)/len(Y)\n",
    "    n = len(X) # or len(Y)\n",
    "\n",
    "    numer = sum([xi*yi for xi,yi in zip(X, Y)]) - n * xbar * ybar\n",
    "    denum = sum([xi**2 for xi in X]) - n * xbar**2\n",
    "\n",
    "    b = numer / denum\n",
    "    a = ybar - b * xbar\n",
    "\n",
    "    return a, b\n"
   ]
  },
  {
   "cell_type": "markdown",
   "metadata": {},
   "source": [
    "### Reading the csv into a dataframe"
   ]
  },
  {
   "cell_type": "code",
   "execution_count": 142,
   "metadata": {},
   "outputs": [
    {
     "data": {
      "text/html": [
       "<div>\n",
       "<style scoped>\n",
       "    .dataframe tbody tr th:only-of-type {\n",
       "        vertical-align: middle;\n",
       "    }\n",
       "\n",
       "    .dataframe tbody tr th {\n",
       "        vertical-align: top;\n",
       "    }\n",
       "\n",
       "    .dataframe thead th {\n",
       "        text-align: right;\n",
       "    }\n",
       "</style>\n",
       "<table border=\"1\" class=\"dataframe\">\n",
       "  <thead>\n",
       "    <tr style=\"text-align: right;\">\n",
       "      <th></th>\n",
       "      <th>Id</th>\n",
       "      <th>MSSubClass</th>\n",
       "      <th>MSZoning</th>\n",
       "      <th>LotFrontage</th>\n",
       "      <th>LotArea</th>\n",
       "      <th>Street</th>\n",
       "      <th>Alley</th>\n",
       "      <th>LotShape</th>\n",
       "      <th>LandContour</th>\n",
       "      <th>Utilities</th>\n",
       "      <th>...</th>\n",
       "      <th>PoolArea</th>\n",
       "      <th>PoolQC</th>\n",
       "      <th>Fence</th>\n",
       "      <th>MiscFeature</th>\n",
       "      <th>MiscVal</th>\n",
       "      <th>MoSold</th>\n",
       "      <th>YrSold</th>\n",
       "      <th>SaleType</th>\n",
       "      <th>SaleCondition</th>\n",
       "      <th>SalePrice</th>\n",
       "    </tr>\n",
       "  </thead>\n",
       "  <tbody>\n",
       "    <tr>\n",
       "      <th>0</th>\n",
       "      <td>1</td>\n",
       "      <td>60</td>\n",
       "      <td>RL</td>\n",
       "      <td>65.0</td>\n",
       "      <td>8450</td>\n",
       "      <td>Pave</td>\n",
       "      <td>NaN</td>\n",
       "      <td>Reg</td>\n",
       "      <td>Lvl</td>\n",
       "      <td>AllPub</td>\n",
       "      <td>...</td>\n",
       "      <td>0</td>\n",
       "      <td>NaN</td>\n",
       "      <td>NaN</td>\n",
       "      <td>NaN</td>\n",
       "      <td>0</td>\n",
       "      <td>2</td>\n",
       "      <td>2008</td>\n",
       "      <td>WD</td>\n",
       "      <td>Normal</td>\n",
       "      <td>208500.0</td>\n",
       "    </tr>\n",
       "    <tr>\n",
       "      <th>1</th>\n",
       "      <td>2</td>\n",
       "      <td>20</td>\n",
       "      <td>RL</td>\n",
       "      <td>80.0</td>\n",
       "      <td>9600</td>\n",
       "      <td>Pave</td>\n",
       "      <td>NaN</td>\n",
       "      <td>Reg</td>\n",
       "      <td>Lvl</td>\n",
       "      <td>AllPub</td>\n",
       "      <td>...</td>\n",
       "      <td>0</td>\n",
       "      <td>NaN</td>\n",
       "      <td>NaN</td>\n",
       "      <td>NaN</td>\n",
       "      <td>0</td>\n",
       "      <td>5</td>\n",
       "      <td>2007</td>\n",
       "      <td>WD</td>\n",
       "      <td>Normal</td>\n",
       "      <td>181500.0</td>\n",
       "    </tr>\n",
       "    <tr>\n",
       "      <th>2</th>\n",
       "      <td>3</td>\n",
       "      <td>60</td>\n",
       "      <td>RL</td>\n",
       "      <td>68.0</td>\n",
       "      <td>11250</td>\n",
       "      <td>Pave</td>\n",
       "      <td>NaN</td>\n",
       "      <td>IR1</td>\n",
       "      <td>Lvl</td>\n",
       "      <td>AllPub</td>\n",
       "      <td>...</td>\n",
       "      <td>0</td>\n",
       "      <td>NaN</td>\n",
       "      <td>NaN</td>\n",
       "      <td>NaN</td>\n",
       "      <td>0</td>\n",
       "      <td>9</td>\n",
       "      <td>2008</td>\n",
       "      <td>WD</td>\n",
       "      <td>Normal</td>\n",
       "      <td>223500.0</td>\n",
       "    </tr>\n",
       "    <tr>\n",
       "      <th>3</th>\n",
       "      <td>4</td>\n",
       "      <td>70</td>\n",
       "      <td>RL</td>\n",
       "      <td>60.0</td>\n",
       "      <td>9550</td>\n",
       "      <td>Pave</td>\n",
       "      <td>NaN</td>\n",
       "      <td>IR1</td>\n",
       "      <td>Lvl</td>\n",
       "      <td>AllPub</td>\n",
       "      <td>...</td>\n",
       "      <td>0</td>\n",
       "      <td>NaN</td>\n",
       "      <td>NaN</td>\n",
       "      <td>NaN</td>\n",
       "      <td>0</td>\n",
       "      <td>2</td>\n",
       "      <td>2006</td>\n",
       "      <td>WD</td>\n",
       "      <td>Abnorml</td>\n",
       "      <td>140000.0</td>\n",
       "    </tr>\n",
       "    <tr>\n",
       "      <th>4</th>\n",
       "      <td>5</td>\n",
       "      <td>60</td>\n",
       "      <td>RL</td>\n",
       "      <td>84.0</td>\n",
       "      <td>14260</td>\n",
       "      <td>Pave</td>\n",
       "      <td>NaN</td>\n",
       "      <td>IR1</td>\n",
       "      <td>Lvl</td>\n",
       "      <td>AllPub</td>\n",
       "      <td>...</td>\n",
       "      <td>0</td>\n",
       "      <td>NaN</td>\n",
       "      <td>NaN</td>\n",
       "      <td>NaN</td>\n",
       "      <td>0</td>\n",
       "      <td>12</td>\n",
       "      <td>2008</td>\n",
       "      <td>WD</td>\n",
       "      <td>Normal</td>\n",
       "      <td>250000.0</td>\n",
       "    </tr>\n",
       "  </tbody>\n",
       "</table>\n",
       "<p>5 rows × 81 columns</p>\n",
       "</div>"
      ],
      "text/plain": [
       "   Id  MSSubClass MSZoning  LotFrontage  LotArea Street Alley LotShape  \\\n",
       "0   1          60       RL         65.0     8450   Pave   NaN      Reg   \n",
       "1   2          20       RL         80.0     9600   Pave   NaN      Reg   \n",
       "2   3          60       RL         68.0    11250   Pave   NaN      IR1   \n",
       "3   4          70       RL         60.0     9550   Pave   NaN      IR1   \n",
       "4   5          60       RL         84.0    14260   Pave   NaN      IR1   \n",
       "\n",
       "  LandContour Utilities  ... PoolArea PoolQC Fence MiscFeature MiscVal MoSold  \\\n",
       "0         Lvl    AllPub  ...        0    NaN   NaN         NaN       0      2   \n",
       "1         Lvl    AllPub  ...        0    NaN   NaN         NaN       0      5   \n",
       "2         Lvl    AllPub  ...        0    NaN   NaN         NaN       0      9   \n",
       "3         Lvl    AllPub  ...        0    NaN   NaN         NaN       0      2   \n",
       "4         Lvl    AllPub  ...        0    NaN   NaN         NaN       0     12   \n",
       "\n",
       "  YrSold  SaleType  SaleCondition  SalePrice  \n",
       "0   2008        WD         Normal   208500.0  \n",
       "1   2007        WD         Normal   181500.0  \n",
       "2   2008        WD         Normal   223500.0  \n",
       "3   2006        WD        Abnorml   140000.0  \n",
       "4   2008        WD         Normal   250000.0  \n",
       "\n",
       "[5 rows x 81 columns]"
      ]
     },
     "execution_count": 142,
     "metadata": {},
     "output_type": "execute_result"
    }
   ],
   "source": [
    "#Reading the csv downloaded from Kaggle into a dataframe\n",
    "houses_df = pd.read_csv(\"House_Prices.csv\")\n",
    "\n",
    "#Combined the seperated csv from kaggle into one csv for better testing.\n",
    "houses_df.head()"
   ]
  },
  {
   "cell_type": "markdown",
   "metadata": {},
   "source": [
    "### Here are some graphs that help users visualize the information we can gain from looking into each feature of the given data set."
   ]
  },
  {
   "cell_type": "code",
   "execution_count": 143,
   "metadata": {},
   "outputs": [
    {
     "data": {
      "image/png": "[encoded data removed]",
      "text/plain": [
       "<Figure size 432x288 with 1 Axes>"
      ]
     },
     "metadata": {
      "needs_background": "light"
     },
     "output_type": "display_data"
    }
   ],
   "source": [
    "#to check the different house prices in different neighborhood\n",
    "houses_df.boxplot(column='SalePrice', by='Neighborhood', whis=1.5,)\n",
    "plt.xlabel(\"Neighborhood\")\n",
    "plt.ylabel(\"SalePrice\")\n",
    "xt = plt.xticks(rotation=90)\n",
    "plt.show()"
   ]
  },
  {
   "cell_type": "code",
   "execution_count": 144,
   "metadata": {},
   "outputs": [
    {
     "data": {
      "image/png": "[encoded data removed]",
      "text/plain": [
       "<Figure size 432x288 with 1 Axes>"
      ]
     },
     "metadata": {
      "needs_background": "light"
     },
     "output_type": "display_data"
    }
   ],
   "source": [
    "#how area affect the price\n",
    "house_area= houses_df['LotArea']\n",
    "house_price=houses_df['SalePrice']\n",
    "plt.scatter(house_area,house_price,s=2.5)\n",
    "plt.title(\"Area affect the price\")\n",
    "plt.show()"
   ]
  },
  {
   "cell_type": "markdown",
   "metadata": {},
   "source": [
    "## 1a.) Linear Regression with select features\n",
    "### Initial run with only 10 selected features\n",
    "Establish a baseline for the project.\n",
    "Every model we use after this should have a lower RMSE."
   ]
  },
  {
   "cell_type": "code",
   "execution_count": 145,
   "metadata": {},
   "outputs": [
    {
     "data": {
      "text/html": [
       "<div>\n",
       "<style scoped>\n",
       "    .dataframe tbody tr th:only-of-type {\n",
       "        vertical-align: middle;\n",
       "    }\n",
       "\n",
       "    .dataframe tbody tr th {\n",
       "        vertical-align: top;\n",
       "    }\n",
       "\n",
       "    .dataframe thead th {\n",
       "        text-align: right;\n",
       "    }\n",
       "</style>\n",
       "<table border=\"1\" class=\"dataframe\">\n",
       "  <thead>\n",
       "    <tr style=\"text-align: right;\">\n",
       "      <th></th>\n",
       "      <th>LotArea</th>\n",
       "      <th>Neighborhood</th>\n",
       "      <th>BldgType</th>\n",
       "      <th>HouseStyle</th>\n",
       "      <th>YearBuilt</th>\n",
       "      <th>FullBath</th>\n",
       "      <th>YearRemodAdd</th>\n",
       "      <th>Foundation</th>\n",
       "      <th>SaleType</th>\n",
       "      <th>SaleCondition</th>\n",
       "    </tr>\n",
       "  </thead>\n",
       "  <tbody>\n",
       "    <tr>\n",
       "      <th>0</th>\n",
       "      <td>8450</td>\n",
       "      <td>CollgCr</td>\n",
       "      <td>1Fam</td>\n",
       "      <td>2Story</td>\n",
       "      <td>2003</td>\n",
       "      <td>2</td>\n",
       "      <td>2003</td>\n",
       "      <td>PConc</td>\n",
       "      <td>WD</td>\n",
       "      <td>Normal</td>\n",
       "    </tr>\n",
       "    <tr>\n",
       "      <th>1</th>\n",
       "      <td>9600</td>\n",
       "      <td>Veenker</td>\n",
       "      <td>1Fam</td>\n",
       "      <td>1Story</td>\n",
       "      <td>1976</td>\n",
       "      <td>2</td>\n",
       "      <td>1976</td>\n",
       "      <td>CBlock</td>\n",
       "      <td>WD</td>\n",
       "      <td>Normal</td>\n",
       "    </tr>\n",
       "    <tr>\n",
       "      <th>2</th>\n",
       "      <td>11250</td>\n",
       "      <td>CollgCr</td>\n",
       "      <td>1Fam</td>\n",
       "      <td>2Story</td>\n",
       "      <td>2001</td>\n",
       "      <td>2</td>\n",
       "      <td>2002</td>\n",
       "      <td>PConc</td>\n",
       "      <td>WD</td>\n",
       "      <td>Normal</td>\n",
       "    </tr>\n",
       "    <tr>\n",
       "      <th>3</th>\n",
       "      <td>9550</td>\n",
       "      <td>Crawfor</td>\n",
       "      <td>1Fam</td>\n",
       "      <td>2Story</td>\n",
       "      <td>1915</td>\n",
       "      <td>1</td>\n",
       "      <td>1970</td>\n",
       "      <td>BrkTil</td>\n",
       "      <td>WD</td>\n",
       "      <td>Abnorml</td>\n",
       "    </tr>\n",
       "    <tr>\n",
       "      <th>4</th>\n",
       "      <td>14260</td>\n",
       "      <td>NoRidge</td>\n",
       "      <td>1Fam</td>\n",
       "      <td>2Story</td>\n",
       "      <td>2000</td>\n",
       "      <td>2</td>\n",
       "      <td>2000</td>\n",
       "      <td>PConc</td>\n",
       "      <td>WD</td>\n",
       "      <td>Normal</td>\n",
       "    </tr>\n",
       "  </tbody>\n",
       "</table>\n",
       "</div>"
      ],
      "text/plain": [
       "   LotArea Neighborhood BldgType HouseStyle  YearBuilt  FullBath  \\\n",
       "0     8450      CollgCr     1Fam     2Story       2003         2   \n",
       "1     9600      Veenker     1Fam     1Story       1976         2   \n",
       "2    11250      CollgCr     1Fam     2Story       2001         2   \n",
       "3     9550      Crawfor     1Fam     2Story       1915         1   \n",
       "4    14260      NoRidge     1Fam     2Story       2000         2   \n",
       "\n",
       "   YearRemodAdd Foundation SaleType SaleCondition  \n",
       "0          2003      PConc       WD        Normal  \n",
       "1          1976     CBlock       WD        Normal  \n",
       "2          2002      PConc       WD        Normal  \n",
       "3          1970     BrkTil       WD       Abnorml  \n",
       "4          2000      PConc       WD        Normal  "
      ]
     },
     "execution_count": 145,
     "metadata": {},
     "output_type": "execute_result"
    }
   ],
   "source": [
    "# Creating the Feature Matrix:\n",
    "# hand selected features that we thought would give us a decent regression.\n",
    "feature_cols = ['LotArea','Neighborhood', 'BldgType', 'HouseStyle','YearBuilt', 'FullBath', 'YearRemodAdd', 'Foundation','SaleType', 'SaleCondition']\n",
    "\n",
    "# Get X from the training data\n",
    "X = houses_df[feature_cols]\n",
    "# select the target (last column) from the DataFrame\n",
    "y = houses_df['SalePrice']\n",
    "X.head()"
   ]
  },
  {
   "cell_type": "markdown",
   "metadata": {},
   "source": [
    "### Use label encoding to convert the string values into numbers"
   ]
  },
  {
   "cell_type": "code",
   "execution_count": 146,
   "metadata": {},
   "outputs": [
    {
     "data": {
      "text/html": [
       "<div>\n",
       "<style scoped>\n",
       "    .dataframe tbody tr th:only-of-type {\n",
       "        vertical-align: middle;\n",
       "    }\n",
       "\n",
       "    .dataframe tbody tr th {\n",
       "        vertical-align: top;\n",
       "    }\n",
       "\n",
       "    .dataframe thead th {\n",
       "        text-align: right;\n",
       "    }\n",
       "</style>\n",
       "<table border=\"1\" class=\"dataframe\">\n",
       "  <thead>\n",
       "    <tr style=\"text-align: right;\">\n",
       "      <th></th>\n",
       "      <th>LotArea</th>\n",
       "      <th>Neighborhood</th>\n",
       "      <th>BldgType</th>\n",
       "      <th>HouseStyle</th>\n",
       "      <th>YearBuilt</th>\n",
       "      <th>FullBath</th>\n",
       "      <th>YearRemodAdd</th>\n",
       "      <th>Foundation</th>\n",
       "      <th>SaleType</th>\n",
       "      <th>SaleCondition</th>\n",
       "    </tr>\n",
       "  </thead>\n",
       "  <tbody>\n",
       "    <tr>\n",
       "      <th>0</th>\n",
       "      <td>8450</td>\n",
       "      <td>5</td>\n",
       "      <td>0</td>\n",
       "      <td>5</td>\n",
       "      <td>2003</td>\n",
       "      <td>2</td>\n",
       "      <td>2003</td>\n",
       "      <td>2</td>\n",
       "      <td>8</td>\n",
       "      <td>4</td>\n",
       "    </tr>\n",
       "    <tr>\n",
       "      <th>1</th>\n",
       "      <td>9600</td>\n",
       "      <td>24</td>\n",
       "      <td>0</td>\n",
       "      <td>2</td>\n",
       "      <td>1976</td>\n",
       "      <td>2</td>\n",
       "      <td>1976</td>\n",
       "      <td>1</td>\n",
       "      <td>8</td>\n",
       "      <td>4</td>\n",
       "    </tr>\n",
       "    <tr>\n",
       "      <th>2</th>\n",
       "      <td>11250</td>\n",
       "      <td>5</td>\n",
       "      <td>0</td>\n",
       "      <td>5</td>\n",
       "      <td>2001</td>\n",
       "      <td>2</td>\n",
       "      <td>2002</td>\n",
       "      <td>2</td>\n",
       "      <td>8</td>\n",
       "      <td>4</td>\n",
       "    </tr>\n",
       "    <tr>\n",
       "      <th>3</th>\n",
       "      <td>9550</td>\n",
       "      <td>6</td>\n",
       "      <td>0</td>\n",
       "      <td>5</td>\n",
       "      <td>1915</td>\n",
       "      <td>1</td>\n",
       "      <td>1970</td>\n",
       "      <td>0</td>\n",
       "      <td>8</td>\n",
       "      <td>0</td>\n",
       "    </tr>\n",
       "    <tr>\n",
       "      <th>4</th>\n",
       "      <td>14260</td>\n",
       "      <td>15</td>\n",
       "      <td>0</td>\n",
       "      <td>5</td>\n",
       "      <td>2000</td>\n",
       "      <td>2</td>\n",
       "      <td>2000</td>\n",
       "      <td>2</td>\n",
       "      <td>8</td>\n",
       "      <td>4</td>\n",
       "    </tr>\n",
       "  </tbody>\n",
       "</table>\n",
       "</div>"
      ],
      "text/plain": [
       "   LotArea  Neighborhood  BldgType  HouseStyle  YearBuilt  FullBath  \\\n",
       "0     8450             5         0           5       2003         2   \n",
       "1     9600            24         0           2       1976         2   \n",
       "2    11250             5         0           5       2001         2   \n",
       "3     9550             6         0           5       1915         1   \n",
       "4    14260            15         0           5       2000         2   \n",
       "\n",
       "   YearRemodAdd  Foundation  SaleType  SaleCondition  \n",
       "0          2003           2         8              4  \n",
       "1          1976           1         8              4  \n",
       "2          2002           2         8              4  \n",
       "3          1970           0         8              0  \n",
       "4          2000           2         8              4  "
      ]
     },
     "execution_count": 146,
     "metadata": {},
     "output_type": "execute_result"
    }
   ],
   "source": [
    "# label_encoder object knows how to understand word labels. \n",
    "label_encoder = preprocessing.LabelEncoder() \n",
    "  \n",
    "# Encode labels in column 'species'. \n",
    "X['Neighborhood']= label_encoder.fit_transform(X['Neighborhood']) \n",
    "X['BldgType']= label_encoder.fit_transform(X['BldgType']) \n",
    "X['HouseStyle']= label_encoder.fit_transform(X['HouseStyle']) \n",
    "X['Foundation']= label_encoder.fit_transform(X['Foundation'])\n",
    "X['SaleType'] = label_encoder.fit_transform(X['SaleType'].astype(str))\n",
    "X['SaleCondition']= label_encoder.fit_transform(X['SaleCondition'])  \n",
    "X.head()\n"
   ]
  },
  {
   "cell_type": "markdown",
   "metadata": {},
   "source": [
    "### Splitting the Dataset into testing and training"
   ]
  },
  {
   "cell_type": "code",
   "execution_count": 147,
   "metadata": {},
   "outputs": [],
   "source": [
    "# Splitting the dataset into testing and training:\n",
    "X_train, X_test, y_train, y_test = train_test_split(X, y, test_size=0.3, random_state=2)"
   ]
  },
  {
   "cell_type": "code",
   "execution_count": 148,
   "metadata": {},
   "outputs": [
    {
     "name": "stdout",
     "output_type": "stream",
     "text": [
      "-1070994.724813176\n",
      "[ 1.58850512e+00  7.62004931e+02 -6.26278101e+03  8.25112801e+02\n",
      "  3.31556307e+02  2.67069687e+04  2.72103173e+02  5.09823459e+02\n",
      " -2.47888906e+03  2.22912976e+03]\n"
     ]
    }
   ],
   "source": [
    "linear_reg_houses = LinearRegression()\n",
    "# fitting the model to the training data:\n",
    "linear_reg_houses.fit(X_train, y_train)\n",
    "\n",
    "# printing Theta0 using attribute \"intercept_\":\n",
    "print(linear_reg_houses.intercept_)\n",
    "\n",
    "# printing [Theta1, Theta2, Theta3] using attribute \"coef_\":\n",
    "print(linear_reg_houses.coef_)"
   ]
  },
  {
   "cell_type": "code",
   "execution_count": 149,
   "metadata": {},
   "outputs": [
    {
     "name": "stdout",
     "output_type": "stream",
     "text": [
      "49367.798232765104\n"
     ]
    }
   ],
   "source": [
    "# make predictions on the testing set\n",
    "y_prediction = linear_reg_houses.predict(X_test)\n",
    "\n",
    "# Calculating \"Mean Square Error\" (MSE):\n",
    "mse = metrics.mean_squared_error(y_test, y_prediction)\n",
    "\n",
    "# Using numpy sqrt function to take the square root and calculate \"Root Mean Square Error\" (RMSE)\n",
    "rmse = np.sqrt(mse)\n",
    "\n",
    "print(rmse)"
   ]
  },
  {
   "cell_type": "markdown",
   "metadata": {},
   "source": [
    "### RMSE = 49367.79\n",
    "This is the baseling RMSE that we are going to be using.\n",
    "The goal for the other techniques we are going to use is to lower the RMSE and see which model is the best."
   ]
  },
  {
   "cell_type": "markdown",
   "metadata": {},
   "source": [
    "## 1b.) Linear Regression with OneHot encoding\n",
    "This is going to build off of the last model, but after using label encoding, we are going to use onehot encoding as well."
   ]
  },
  {
   "cell_type": "code",
   "execution_count": 150,
   "metadata": {},
   "outputs": [],
   "source": [
    "#Reading the csv downloaded from Kaggle into a dataframe\n",
    "houses_df = pd.read_csv(\"House_Prices.csv\")\n",
    "\n",
    "#Combined the seperated csv from kaggle into one csv for better testing.\n",
    "\n",
    "# Creating the Feature Matrix:\n",
    "# hand selected features that we thought would give us a decent regression.\n",
    "feature_cols = ['LotArea','Neighborhood', 'BldgType', 'HouseStyle','YearBuilt', 'FullBath', 'YearRemodAdd', 'Foundation','SaleType', 'SaleCondition']\n",
    "\n",
    "# Get X from the training data\n",
    "X = houses_df[feature_cols]\n",
    "# select the target (last column) from the DataFrame\n",
    "y = houses_df['SalePrice']\n",
    "\n",
    "# label_encoder object knows how to understand word labels. \n",
    "label_encoder = preprocessing.LabelEncoder() \n",
    "  \n",
    "# Encode labels in column 'species'. \n",
    "X['Neighborhood']= label_encoder.fit_transform(X['Neighborhood']) \n",
    "X['BldgType']= label_encoder.fit_transform(X['BldgType']) \n",
    "X['HouseStyle']= label_encoder.fit_transform(X['HouseStyle']) \n",
    "X['Foundation']= label_encoder.fit_transform(X['Foundation'])\n",
    "X['SaleType'] = label_encoder.fit_transform(X['SaleType'].astype(str))\n",
    "X['SaleCondition']= label_encoder.fit_transform(X['SaleCondition'])  "
   ]
  },
  {
   "cell_type": "code",
   "execution_count": 151,
   "metadata": {},
   "outputs": [
    {
     "data": {
      "text/html": [
       "<div>\n",
       "<style scoped>\n",
       "    .dataframe tbody tr th:only-of-type {\n",
       "        vertical-align: middle;\n",
       "    }\n",
       "\n",
       "    .dataframe tbody tr th {\n",
       "        vertical-align: top;\n",
       "    }\n",
       "\n",
       "    .dataframe thead th {\n",
       "        text-align: right;\n",
       "    }\n",
       "</style>\n",
       "<table border=\"1\" class=\"dataframe\">\n",
       "  <thead>\n",
       "    <tr style=\"text-align: right;\">\n",
       "      <th></th>\n",
       "      <th>0</th>\n",
       "      <th>1</th>\n",
       "      <th>2</th>\n",
       "      <th>3</th>\n",
       "      <th>4</th>\n",
       "      <th>5</th>\n",
       "      <th>6</th>\n",
       "      <th>7</th>\n",
       "      <th>8</th>\n",
       "      <th>9</th>\n",
       "      <th>...</th>\n",
       "      <th>54</th>\n",
       "      <th>55</th>\n",
       "      <th>56</th>\n",
       "      <th>57</th>\n",
       "      <th>58</th>\n",
       "      <th>59</th>\n",
       "      <th>60</th>\n",
       "      <th>61</th>\n",
       "      <th>62</th>\n",
       "      <th>63</th>\n",
       "    </tr>\n",
       "  </thead>\n",
       "  <tbody>\n",
       "    <tr>\n",
       "      <th>0</th>\n",
       "      <td>0.0</td>\n",
       "      <td>0.0</td>\n",
       "      <td>0.0</td>\n",
       "      <td>0.0</td>\n",
       "      <td>0.0</td>\n",
       "      <td>1.0</td>\n",
       "      <td>0.0</td>\n",
       "      <td>0.0</td>\n",
       "      <td>0.0</td>\n",
       "      <td>0.0</td>\n",
       "      <td>...</td>\n",
       "      <td>0.0</td>\n",
       "      <td>0.0</td>\n",
       "      <td>0.0</td>\n",
       "      <td>0.0</td>\n",
       "      <td>1.0</td>\n",
       "      <td>0.0</td>\n",
       "      <td>8450.0</td>\n",
       "      <td>2003.0</td>\n",
       "      <td>2.0</td>\n",
       "      <td>2003.0</td>\n",
       "    </tr>\n",
       "    <tr>\n",
       "      <th>1</th>\n",
       "      <td>0.0</td>\n",
       "      <td>0.0</td>\n",
       "      <td>0.0</td>\n",
       "      <td>0.0</td>\n",
       "      <td>0.0</td>\n",
       "      <td>0.0</td>\n",
       "      <td>0.0</td>\n",
       "      <td>0.0</td>\n",
       "      <td>0.0</td>\n",
       "      <td>0.0</td>\n",
       "      <td>...</td>\n",
       "      <td>0.0</td>\n",
       "      <td>0.0</td>\n",
       "      <td>0.0</td>\n",
       "      <td>0.0</td>\n",
       "      <td>1.0</td>\n",
       "      <td>0.0</td>\n",
       "      <td>9600.0</td>\n",
       "      <td>1976.0</td>\n",
       "      <td>2.0</td>\n",
       "      <td>1976.0</td>\n",
       "    </tr>\n",
       "    <tr>\n",
       "      <th>2</th>\n",
       "      <td>0.0</td>\n",
       "      <td>0.0</td>\n",
       "      <td>0.0</td>\n",
       "      <td>0.0</td>\n",
       "      <td>0.0</td>\n",
       "      <td>1.0</td>\n",
       "      <td>0.0</td>\n",
       "      <td>0.0</td>\n",
       "      <td>0.0</td>\n",
       "      <td>0.0</td>\n",
       "      <td>...</td>\n",
       "      <td>0.0</td>\n",
       "      <td>0.0</td>\n",
       "      <td>0.0</td>\n",
       "      <td>0.0</td>\n",
       "      <td>1.0</td>\n",
       "      <td>0.0</td>\n",
       "      <td>11250.0</td>\n",
       "      <td>2001.0</td>\n",
       "      <td>2.0</td>\n",
       "      <td>2002.0</td>\n",
       "    </tr>\n",
       "    <tr>\n",
       "      <th>3</th>\n",
       "      <td>0.0</td>\n",
       "      <td>0.0</td>\n",
       "      <td>0.0</td>\n",
       "      <td>0.0</td>\n",
       "      <td>0.0</td>\n",
       "      <td>0.0</td>\n",
       "      <td>1.0</td>\n",
       "      <td>0.0</td>\n",
       "      <td>0.0</td>\n",
       "      <td>0.0</td>\n",
       "      <td>...</td>\n",
       "      <td>1.0</td>\n",
       "      <td>0.0</td>\n",
       "      <td>0.0</td>\n",
       "      <td>0.0</td>\n",
       "      <td>0.0</td>\n",
       "      <td>0.0</td>\n",
       "      <td>9550.0</td>\n",
       "      <td>1915.0</td>\n",
       "      <td>1.0</td>\n",
       "      <td>1970.0</td>\n",
       "    </tr>\n",
       "    <tr>\n",
       "      <th>4</th>\n",
       "      <td>0.0</td>\n",
       "      <td>0.0</td>\n",
       "      <td>0.0</td>\n",
       "      <td>0.0</td>\n",
       "      <td>0.0</td>\n",
       "      <td>0.0</td>\n",
       "      <td>0.0</td>\n",
       "      <td>0.0</td>\n",
       "      <td>0.0</td>\n",
       "      <td>0.0</td>\n",
       "      <td>...</td>\n",
       "      <td>0.0</td>\n",
       "      <td>0.0</td>\n",
       "      <td>0.0</td>\n",
       "      <td>0.0</td>\n",
       "      <td>1.0</td>\n",
       "      <td>0.0</td>\n",
       "      <td>14260.0</td>\n",
       "      <td>2000.0</td>\n",
       "      <td>2.0</td>\n",
       "      <td>2000.0</td>\n",
       "    </tr>\n",
       "  </tbody>\n",
       "</table>\n",
       "<p>5 rows × 64 columns</p>\n",
       "</div>"
      ],
      "text/plain": [
       "    0    1    2    3    4    5    6    7    8    9   ...   54   55   56   57  \\\n",
       "0  0.0  0.0  0.0  0.0  0.0  1.0  0.0  0.0  0.0  0.0  ...  0.0  0.0  0.0  0.0   \n",
       "1  0.0  0.0  0.0  0.0  0.0  0.0  0.0  0.0  0.0  0.0  ...  0.0  0.0  0.0  0.0   \n",
       "2  0.0  0.0  0.0  0.0  0.0  1.0  0.0  0.0  0.0  0.0  ...  0.0  0.0  0.0  0.0   \n",
       "3  0.0  0.0  0.0  0.0  0.0  0.0  1.0  0.0  0.0  0.0  ...  1.0  0.0  0.0  0.0   \n",
       "4  0.0  0.0  0.0  0.0  0.0  0.0  0.0  0.0  0.0  0.0  ...  0.0  0.0  0.0  0.0   \n",
       "\n",
       "    58   59       60      61   62      63  \n",
       "0  1.0  0.0   8450.0  2003.0  2.0  2003.0  \n",
       "1  1.0  0.0   9600.0  1976.0  2.0  1976.0  \n",
       "2  1.0  0.0  11250.0  2001.0  2.0  2002.0  \n",
       "3  0.0  0.0   9550.0  1915.0  1.0  1970.0  \n",
       "4  1.0  0.0  14260.0  2000.0  2.0  2000.0  \n",
       "\n",
       "[5 rows x 64 columns]"
      ]
     },
     "execution_count": 151,
     "metadata": {},
     "output_type": "execute_result"
    }
   ],
   "source": [
    "from sklearn.preprocessing import OneHotEncoder\n",
    "onehotencoder = OneHotEncoder(categorical_features = [1,2,3,7,8,9])\n",
    "X_onehot = onehotencoder.fit_transform(X).toarray()\n",
    "X = pd.DataFrame(X_onehot)\n",
    "X.head()"
   ]
  },
  {
   "cell_type": "code",
   "execution_count": 152,
   "metadata": {},
   "outputs": [
    {
     "name": "stdout",
     "output_type": "stream",
     "text": [
      "-723209.3045479711\n",
      "[ 5.76978843e+03  1.48612316e+04  6.67901814e+03 -2.11674828e+04\n",
      " -9.19883461e+03 -1.21089243e+04  1.16911804e+04 -2.03946504e+04\n",
      " -2.85938839e+04 -1.70502325e+04 -2.91802044e+02 -1.59572566e+04\n",
      " -7.77807022e+03  7.79460004e+03 -8.33449824e+03  6.51066284e+04\n",
      "  3.46210184e+04 -8.27714678e+03 -1.20343175e+04 -1.53557087e+04\n",
      " -1.28691429e+04 -6.11628023e+03  4.78817088e+04 -1.56069019e+04\n",
      "  1.67299595e+04  2.01962603e+04  7.05231847e+03  6.84198709e+03\n",
      " -2.04483319e+04 -1.36422340e+04  1.34326685e+03 -2.63589030e+04\n",
      " -7.39987024e+03  1.74194607e+04  2.26235530e+04  3.38799904e+03\n",
      " -7.00301543e+03 -4.01249098e+03 -5.40640926e+02 -6.93632576e+02\n",
      "  3.94044900e+03 -1.96724485e+04  1.29856438e+04  3.98062929e+03\n",
      " -1.83040046e+04  1.25181796e+02  3.41722659e+04 -8.92301954e+03\n",
      "  1.78071819e+04 -2.92639633e+04  1.39526189e+04  3.84062476e+03\n",
      " -2.44126194e+04  1.10057336e+04 -5.20585507e+03  1.19749636e+04\n",
      "  1.85882584e+04 -2.36475573e+03 -9.34540419e+02 -2.20580708e+04\n",
      "  1.47232273e+00  3.17460477e+02  1.91678391e+04  1.24752055e+02]\n"
     ]
    }
   ],
   "source": [
    "# Splitting the dataset into testing and training:\n",
    "X_train, X_test, y_train, y_test = train_test_split(X, y, test_size=0.3, random_state=2)\n",
    "\n",
    "linear_reg_houses = LinearRegression()\n",
    "# fitting the model to the training data:\n",
    "linear_reg_houses.fit(X_train, y_train)\n",
    "\n",
    "# printing Theta0 using attribute \"intercept_\":\n",
    "print(linear_reg_houses.intercept_)\n",
    "\n",
    "# printing [Theta1, Theta2, Theta3] using attribute \"coef_\":\n",
    "print(linear_reg_houses.coef_)\n",
    "\n",
    "# make predictions on the testing set\n",
    "y_prediction = linear_reg_houses.predict(X_test)"
   ]
  },
  {
   "cell_type": "code",
   "execution_count": 153,
   "metadata": {
    "scrolled": true
   },
   "outputs": [
    {
     "name": "stdout",
     "output_type": "stream",
     "text": [
      "47787.080436974284\n"
     ]
    }
   ],
   "source": [
    "# Calculating \"Mean Square Error\" (MSE):\n",
    "mse = metrics.mean_squared_error(y_test, y_prediction)\n",
    "\n",
    "# Using numpy sqrt function to take the square root and calculate \"Root Mean Square Error\" (RMSE)\n",
    "rmse = np.sqrt(mse)\n",
    "\n",
    "print(rmse)"
   ]
  },
  {
   "cell_type": "markdown",
   "metadata": {},
   "source": [
    "### RMSE = 47786.45\n",
    "This is the new lowest RMSE.\n",
    "One hot encoding on the previous model allowed us to get a lower value.\n",
    "\n",
    "We should look into using label and one hot encoding for the other regression techniques we are going to use."
   ]
  },
  {
   "cell_type": "markdown",
   "metadata": {},
   "source": [
    "## 1c.) Linear Regression and cross validation\n",
    "Continue using one hot encoding but now use cross validation to get a more accuracte RMSE"
   ]
  },
  {
   "cell_type": "code",
   "execution_count": 154,
   "metadata": {},
   "outputs": [],
   "source": [
    "#Reading the csv downloaded from Kaggle into a dataframe\n",
    "houses_df = pd.read_csv(\"House_Prices.csv\")\n",
    "\n",
    "#Combined the seperated csv from kaggle into one csv for better testing.\n",
    "\n",
    "# Creating the Feature Matrix:\n",
    "# hand selected features that we thought would give us a decent regression.\n",
    "feature_cols = ['LotArea','Neighborhood', 'BldgType', 'HouseStyle','YearBuilt', 'FullBath', 'YearRemodAdd', 'Foundation','SaleType', 'SaleCondition']\n",
    "\n",
    "# Get X from the training data\n",
    "X = houses_df[feature_cols]\n",
    "# select the target (last column) from the DataFrame\n",
    "y = houses_df['SalePrice']\n",
    "\n",
    "# label_encoder object knows how to understand word labels. \n",
    "label_encoder = preprocessing.LabelEncoder() \n",
    "  \n",
    "# Encode labels in column 'species'. \n",
    "X['Neighborhood']= label_encoder.fit_transform(X['Neighborhood']) \n",
    "X['BldgType']= label_encoder.fit_transform(X['BldgType']) \n",
    "X['HouseStyle']= label_encoder.fit_transform(X['HouseStyle']) \n",
    "X['Foundation']= label_encoder.fit_transform(X['Foundation'])\n",
    "X['SaleType'] = label_encoder.fit_transform(X['SaleType'].astype(str))\n",
    "X['SaleCondition']= label_encoder.fit_transform(X['SaleCondition'])  "
   ]
  },
  {
   "cell_type": "code",
   "execution_count": 155,
   "metadata": {},
   "outputs": [],
   "source": [
    "# function cross_val_score performs Cross Validation:\n",
    "linear_reg_houses = LinearRegression()\n",
    "accuracy_list_lr = cross_val_score(linear_reg_houses, X, y, cv=10, scoring='neg_mean_squared_error')"
   ]
  },
  {
   "cell_type": "code",
   "execution_count": 156,
   "metadata": {},
   "outputs": [
    {
     "name": "stdout",
     "output_type": "stream",
     "text": [
      "Linear Regression:                    46602.33014125868\n"
     ]
    }
   ],
   "source": [
    "def List_Average(x): \n",
    "    return sum(x) / len(x) \n",
    "\n",
    "rmse_list = []\n",
    "for l in accuracy_list_lr:\n",
    "    x = np.sqrt(-1* l)\n",
    "    #print(x)\n",
    "    rmse_list.append(x)\n",
    "    \n",
    "\n",
    "print(\"Linear Regression:                   \", List_Average(rmse_list))"
   ]
  },
  {
   "cell_type": "markdown",
   "metadata": {},
   "source": [
    "### RMSE = 46602.33\n",
    "This is the new lowest RMSE.\n",
    "By using cross validation, we were able to lower the RMSE from part 1b\n"
   ]
  },
  {
   "cell_type": "markdown",
   "metadata": {},
   "source": [
    "####  We are now going to go back and run cross validaton on 1a to double check that 1c is supperior."
   ]
  },
  {
   "cell_type": "code",
   "execution_count": 157,
   "metadata": {},
   "outputs": [],
   "source": [
    "# Creating the Feature Matrix:\n",
    "# hand selected features that we thought would give us a decent regression.\n",
    "feature_cols = ['LotArea','Neighborhood', 'BldgType', 'HouseStyle','YearBuilt', 'FullBath', 'YearRemodAdd', 'Foundation','SaleType', 'SaleCondition']\n",
    "\n",
    "# Get X from the training data\n",
    "X = houses_df[feature_cols]\n",
    "# select the target (last column) from the DataFrame\n",
    "y = houses_df['SalePrice']\n",
    "# label_encoder object knows how to understand word labels. \n",
    "label_encoder = preprocessing.LabelEncoder() \n",
    "  \n",
    "# Encode labels in column 'species'. \n",
    "X['Neighborhood']= label_encoder.fit_transform(X['Neighborhood']) \n",
    "X['BldgType']= label_encoder.fit_transform(X['BldgType']) \n",
    "X['HouseStyle']= label_encoder.fit_transform(X['HouseStyle']) \n",
    "X['Foundation']= label_encoder.fit_transform(X['Foundation'])\n",
    "X['SaleType'] = label_encoder.fit_transform(X['SaleType'].astype(str))\n",
    "X['SaleCondition']= label_encoder.fit_transform(X['SaleCondition'])  \n",
    "\n",
    "from sklearn.preprocessing import OneHotEncoder\n",
    "onehotencoder = OneHotEncoder(categorical_features = [1,2,3,7,8,9])\n",
    "X_onehot = onehotencoder.fit_transform(X).toarray()\n",
    "X = pd.DataFrame(X_onehot)\n",
    "\n",
    "# function cross_val_score performs Cross Validation:\n",
    "linear_reg_houses = LinearRegression()\n",
    "accuracy_list_lr_le = cross_val_score(linear_reg_houses, X, y, cv=10, scoring='neg_mean_squared_error')\n",
    "\n",
    "rmse_list_le = []\n",
    "for l in accuracy_list_lr_le:\n",
    "    x = np.sqrt(-1* l)\n",
    "    #print(x)\n",
    "    rmse_list_le.append(x)\n",
    "    \n"
   ]
  },
  {
   "cell_type": "code",
   "execution_count": 158,
   "metadata": {},
   "outputs": [
    {
     "name": "stdout",
     "output_type": "stream",
     "text": [
      "Linear Regression(One Hot Encoding Only):                    46753.48470209217\n"
     ]
    }
   ],
   "source": [
    "print(\"Linear Regression(One Hot Encoding Only):                   \", List_Average(rmse_list_le))"
   ]
  },
  {
   "cell_type": "markdown",
   "metadata": {},
   "source": [
    "### Linear Regression with Label Encoding and One Hot Encoding is still the best\n",
    "Linear Regression with One Hot Encoding Only has an RMSE of 46753.48"
   ]
  },
  {
   "cell_type": "code",
   "execution_count": 159,
   "metadata": {},
   "outputs": [
    {
     "data": {
      "image/png": "[encoded data removed]",
      "text/plain": [
       "<Figure size 432x288 with 1 Axes>"
      ]
     },
     "metadata": {
      "needs_background": "light"
     },
     "output_type": "display_data"
    }
   ],
   "source": [
    "x_values = range(1, len(rmse_list)+1)\n",
    "data_points1 = rmse_list \n",
    "data_points2 = rmse_list_le\n",
    "line1, = plt.plot(x_values, data_points1,color='blue', linestyle='dashed', linewidth = 3, marker='o', markerfacecolor='blue', markersize=12, label='Label Encoding & OHE')\n",
    "line2, = plt.plot(x_values, data_points2,color='green', linestyle='dashed', linewidth = 3, marker='o', markerfacecolor='green', markersize=12, label='Label Encoding')\n",
    "\n",
    "plt.legend(handles=[line1, line2])\n",
    "\n",
    "# naming the x axis \n",
    "plt.xlabel('Cross Validation Folds') \n",
    "# naming the y axis \n",
    "plt.ylabel('RMSE') \n",
    "  \n",
    "# giving a title the graph\n",
    "plt.title('Linear Regression with 10 features')\n",
    "plt.show()"
   ]
  },
  {
   "cell_type": "markdown",
   "metadata": {},
   "source": [
    "## 1d.) Linear Regression with all features\n",
    "We are now going to use linear regression with all of the features"
   ]
  },
  {
   "cell_type": "markdown",
   "metadata": {},
   "source": [
    "### Here we are going through the data set and checking which features need to be label encoded."
   ]
  },
  {
   "cell_type": "code",
   "execution_count": 160,
   "metadata": {},
   "outputs": [
    {
     "name": "stdout",
     "output_type": "stream",
     "text": [
      "['MSSubClass', 'LotFrontage', 'LotArea', 'OverallQual', 'OverallCond', 'YearBuilt', 'YearRemodAdd', 'MasVnrArea', 'BsmtFinSF1', 'BsmtFinSF2', 'BsmtUnfSF', 'TotalBsmtSF', '1stFlrSF', '2ndFlrSF', 'LowQualFinSF', 'GrLivArea', 'BsmtFullBath', 'BsmtHalfBath', 'FullBath', 'HalfBath', 'BedroomAbvGr', 'KitchenAbvGr', 'TotRmsAbvGrd', 'Fireplaces', 'GarageYrBlt', 'GarageCars', 'GarageArea', 'WoodDeckSF', 'OpenPorchSF', 'EnclosedPorch', '3SsnPorch', 'ScreenPorch', 'PoolArea', 'MiscVal', 'MoSold', 'YrSold']\n"
     ]
    }
   ],
   "source": [
    "column_list = []\n",
    "for col in houses_df.columns: \n",
    "    column_list.append(col)\n",
    "all_features = column_list[1:-1]\n",
    "\n",
    "\n",
    "#List of features that DO NOT need to be label encoded!\n",
    "#On the CSV, A = 1, B = 2, etc.\n",
    "nums = [2,4,5,18,19,20,21,27,35,37,38,39,44,45,46,47,48,49,50,51,52,53,55,57,\n",
    "                   60,62,63,67,68,69,70,71,72,76,77,78]\n",
    "\n",
    "#Need to edit nums so that the features are correctly indexed!\n",
    "num_features = []\n",
    "for x in nums:\n",
    "    num_features.append(x -1)\n",
    "\n",
    "numeric_features =[]\n",
    "for x in column_list:\n",
    "    if len(num_features) > 0 and x == column_list[num_features[0]]:\n",
    "       # print(x, \" \", num_features[0])\n",
    "        numeric_features.append(x)\n",
    "        num_features.pop(0)\n",
    "            \n",
    "            \n",
    "print(numeric_features)"
   ]
  },
  {
   "cell_type": "code",
   "execution_count": 161,
   "metadata": {},
   "outputs": [],
   "source": [
    "def diff(list1, list2):\n",
    "    c = set(list1).union(set(list2))  # or c = set(list1) | set(list2)\n",
    "    d = set(list1).intersection(set(list2))  # or d = set(list1) & set(list2)\n",
    "    return list(c - d)\n",
    "\n",
    "string_features = diff(all_features, numeric_features)\n",
    "#print(string_features)"
   ]
  },
  {
   "cell_type": "markdown",
   "metadata": {},
   "source": [
    "### Now that we have a list of the features that contain strings, we can use label encoding on the correct features."
   ]
  },
  {
   "cell_type": "code",
   "execution_count": 162,
   "metadata": {},
   "outputs": [],
   "source": [
    "# Get X from the training data\n",
    "X = houses_df[all_features]\n",
    "# select the target (last column) from the DataFrame\n",
    "y = houses_df['SalePrice']\n",
    "#X.head()"
   ]
  },
  {
   "cell_type": "code",
   "execution_count": 163,
   "metadata": {},
   "outputs": [],
   "source": [
    "label_encoder = preprocessing.LabelEncoder()\n",
    "for feat in string_features:\n",
    "    #print(feat)\n",
    "    X[feat] = label_encoder.fit_transform(X[feat].astype(str))\n",
    "#X.head()"
   ]
  },
  {
   "cell_type": "code",
   "execution_count": 164,
   "metadata": {},
   "outputs": [],
   "source": [
    "#Need to replace NaN with 0 or else LinearRegression will not work.\n",
    "X.fillna(0, inplace=True)"
   ]
  },
  {
   "cell_type": "code",
   "execution_count": 165,
   "metadata": {},
   "outputs": [],
   "source": [
    "linear_reg_houses = LinearRegression()\n",
    "accuracy_list_lr_all = cross_val_score(linear_reg_houses, X, y, cv=10, scoring='neg_mean_squared_error')"
   ]
  },
  {
   "cell_type": "code",
   "execution_count": 166,
   "metadata": {},
   "outputs": [
    {
     "name": "stdout",
     "output_type": "stream",
     "text": [
      "Linear Regression(All Features - Label Encoding):                    45200.436060971246\n"
     ]
    }
   ],
   "source": [
    "# function cross_val_score performs Cross Validation:\n",
    "\n",
    "\n",
    "rmse_list_lr_all = []\n",
    "for l in accuracy_list_lr_all:\n",
    "    x = np.sqrt(-1* l)\n",
    "    rmse_list_lr_all.append(x)\n",
    "    \n",
    "print(\"Linear Regression(All Features - Label Encoding):                   \", List_Average(rmse_list_lr_all))"
   ]
  },
  {
   "cell_type": "markdown",
   "metadata": {},
   "source": [
    "### RMSE = 45200.43\n",
    "This is the new lowest RMSE.\n",
    "\n",
    "By using information from all features and sanitizing it, it allowed us to get better results\n"
   ]
  },
  {
   "cell_type": "code",
   "execution_count": 170,
   "metadata": {},
   "outputs": [
    {
     "data": {
      "image/png": "[encoded data removed]",
      "text/plain": [
       "<Figure size 432x288 with 1 Axes>"
      ]
     },
     "metadata": {
      "needs_background": "light"
     },
     "output_type": "display_data"
    }
   ],
   "source": [
    "x_values = range(1, len(rmse_list_lr_all)+1)\n",
    "data_points1 = rmse_list_lr_all \n",
    "\n",
    "# solution\n",
    "a, b = best_fit(x_values, data_points1)\n",
    "#best fit line:\n",
    "#y = 0.80 + 0.92x\n",
    "\n",
    "# plot points and fit line\n",
    "plt.scatter(x_values, data_points1,color='red',s=100)\n",
    "yfit = [a + b * xi for xi in x_values]\n",
    "line1, =plt.plot(x_values, yfit,linewidth = 3,color='red', markerfacecolor='red', markersize=12, label='All Features - LE Only')\n",
    "#line1, = plt.plot(x_values, data_points1,color='red', linestyle='dashed', linewidth = 3, marker='o', markerfacecolor='red', markersize=12, label='All Features - LE Only')\n",
    "plt.legend(handles=[line1])\n",
    "\n",
    "# naming the x axis \n",
    "plt.xlabel('Cross Validation Folds') \n",
    "# naming the y axis \n",
    "plt.ylabel('RMSE') \n",
    "  \n",
    "# giving a title the graph\n",
    "plt.title('Linear Regression with All Features')\n",
    "plt.show()"
   ]
  },
  {
   "cell_type": "markdown",
   "metadata": {},
   "source": [
    "## 2.) Lasso Regression\n",
    "https://towardsdatascience.com/ridge-and-lasso-regression-a-complete-guide-with-python-scikit-learn-e20e34bcbf0b\n",
    "\n"
   ]
  },
  {
   "cell_type": "markdown",
   "metadata": {},
   "source": [
    "## 2a.) LE on All Features"
   ]
  },
  {
   "cell_type": "code",
   "execution_count": 171,
   "metadata": {},
   "outputs": [],
   "source": [
    "column_list = []\n",
    "for col in houses_df.columns: \n",
    "    column_list.append(col)\n",
    "all_features = column_list[1:-1]\n",
    "#print(all_features)\n",
    "\n",
    "\n",
    "#List of features that DO NOT need to be label encoded!\n",
    "#On the CSV, A = 1, B = 2, etc.\n",
    "nums = [2,4,5,18,19,20,21,27,35,37,38,39,44,45,46,47,48,49,50,51,52,53,55,57,\n",
    "                   60,62,63,67,68,69,70,71,72,76,77,78]\n",
    "\n",
    "#Need to edit nums so that the features are correctly indexed!\n",
    "num_features = []\n",
    "for x in nums:\n",
    "    num_features.append(x -1)\n",
    "\n",
    "numeric_features =[]\n",
    "for x in column_list:\n",
    "    if len(num_features) > 0 and x == column_list[num_features[0]]:\n",
    "       # print(x, \" \", num_features[0])\n",
    "        numeric_features.append(x)\n",
    "        num_features.pop(0)\n",
    "            "
   ]
  },
  {
   "cell_type": "code",
   "execution_count": 172,
   "metadata": {},
   "outputs": [],
   "source": [
    "# Get X from the training data\n",
    "X = houses_df[all_features]\n",
    "# select the target (last column) from the DataFrame\n",
    "y = houses_df['SalePrice']\n",
    "#X.head()\n"
   ]
  },
  {
   "cell_type": "code",
   "execution_count": 173,
   "metadata": {},
   "outputs": [],
   "source": [
    "\n",
    "label_encoder = preprocessing.LabelEncoder()\n",
    "for feat in string_features:\n",
    "    #print(feat)\n",
    "    X[feat] = label_encoder.fit_transform(X[feat].astype(str))\n",
    "#Need to replace NaN with 0 or else LinearRegression will not work.\n",
    "X.fillna(0, inplace=True)"
   ]
  },
  {
   "cell_type": "code",
   "execution_count": 174,
   "metadata": {},
   "outputs": [
    {
     "name": "stdout",
     "output_type": "stream",
     "text": [
      "Laso Regression(All Features - Label Encoding):                    45198.62388350516\n"
     ]
    }
   ],
   "source": [
    "from sklearn import linear_model\n",
    "lasso = linear_model.Lasso(alpha=0.1)\n",
    "accuracy_list_lasso = cross_val_score(lasso, X, y, cv=10, scoring='neg_mean_squared_error')\n",
    "#ridge_r = ridge_r.fit(X_train, y_train) \n",
    "\n",
    "\n",
    "# function cross_val_score performs Cross Validation:\n",
    "\n",
    "\n",
    "rmse_lasso = []\n",
    "for l in accuracy_list_lasso:\n",
    "    x = np.sqrt(-1* l)\n",
    "    rmse_lasso.append(x)\n",
    "    \n",
    "print(\"Laso Regression(All Features - Label Encoding):                   \", List_Average(rmse_lasso))"
   ]
  },
  {
   "cell_type": "markdown",
   "metadata": {},
   "source": [
    "### RMSE = 45198.62\n",
    "We will now see if we can lower the RMSE by using OHE."
   ]
  },
  {
   "cell_type": "markdown",
   "metadata": {},
   "source": [
    "## 2b.) LE and OHE on All Features"
   ]
  },
  {
   "cell_type": "code",
   "execution_count": 175,
   "metadata": {},
   "outputs": [],
   "source": [
    "column_list = []\n",
    "for col in houses_df.columns: \n",
    "    column_list.append(col)\n",
    "all_features = column_list[1:-1]\n",
    "#print(all_features)\n",
    "\n",
    "\n",
    "#List of features that DO NOT need to be label encoded!\n",
    "#On the CSV, A = 1, B = 2, etc.\n",
    "nums = [2,4,5,18,19,20,21,27,35,37,38,39,44,45,46,47,48,49,50,51,52,53,55,57,\n",
    "                   60,62,63,67,68,69,70,71,72,76,77,78]\n",
    "\n",
    "#Need to edit nums so that the features are correctly indexed!\n",
    "num_features = []\n",
    "for x in nums:\n",
    "    num_features.append(x -1)\n",
    "\n",
    "numeric_features =[]\n",
    "for x in column_list:\n",
    "    if len(num_features) > 0 and x == column_list[num_features[0]]:\n",
    "       # print(x, \" \", num_features[0])\n",
    "        numeric_features.append(x)\n",
    "        num_features.pop(0)\n",
    "            \n",
    "# Get X from the training data\n",
    "X = houses_df[all_features]\n",
    "# select the target (last column) from the DataFrame\n",
    "y = houses_df['SalePrice']\n",
    "#X.head()\n",
    "\n",
    "\n",
    "\n",
    "label_encoder = preprocessing.LabelEncoder()\n",
    "for feat in string_features:\n",
    "    #print(feat)\n",
    "    X[feat] = label_encoder.fit_transform(X[feat].astype(str))\n",
    "#Need to replace NaN with 0 or else LinearRegression will not work.\n",
    "X.fillna(0, inplace=True)"
   ]
  },
  {
   "cell_type": "code",
   "execution_count": 176,
   "metadata": {},
   "outputs": [
    {
     "name": "stdout",
     "output_type": "stream",
     "text": [
      "Laso Regression(All Features - Label Encoding & OHE):                    48688.091095476455\n"
     ]
    }
   ],
   "source": [
    "#One Hot Encoding is broken!\n",
    "from sklearn.preprocessing import OneHotEncoder\n",
    "string_indexs_minus1 = []\n",
    "for i in string_indexs:\n",
    "    string_indexs_minus1.append(i -1)\n",
    "\n",
    "#print(string_indexs_minus1)   \n",
    "onehotencoder = OneHotEncoder(categorical_features = string_indexs_minus1)\n",
    "X_onehot = onehotencoder.fit_transform(X).toarray()\n",
    "X = pd.DataFrame(X_onehot)\n",
    "X.head()\n",
    "\n",
    "\n",
    "\n",
    "\n",
    "from sklearn import linear_model\n",
    "lasso = linear_model.Lasso(alpha=0.1)\n",
    "accuracy_list_lasso_ohe = cross_val_score(lasso, X, y, cv=10, scoring='neg_mean_squared_error')\n",
    "#ridge_r = ridge_r.fit(X_train, y_train) \n",
    "\n",
    "\n",
    "# function cross_val_score performs Cross Validation:\n",
    "\n",
    "\n",
    "rmse_lasso_ohe = []\n",
    "for l in accuracy_list_lasso_ohe:\n",
    "    x = np.sqrt(-1* l)\n",
    "    rmse_lasso_ohe.append(x)\n",
    "    \n",
    "print(\"Laso Regression(All Features - Label Encoding & OHE):                   \", List_Average(rmse_lasso_ohe))"
   ]
  },
  {
   "cell_type": "markdown",
   "metadata": {},
   "source": [
    "### RMSE = 48688.09\n",
    "The RMSE increased dramtically when using OHE.\n",
    "\n",
    "It might be because the number of features increases so much that it is not as effective."
   ]
  },
  {
   "cell_type": "markdown",
   "metadata": {},
   "source": [
    "## 2c.)  LE & DR on All Features and LE, OHE, & DR on All Features"
   ]
  },
  {
   "cell_type": "code",
   "execution_count": 177,
   "metadata": {},
   "outputs": [],
   "source": [
    "column_list = []\n",
    "for col in houses_df.columns: \n",
    "    column_list.append(col)\n",
    "all_features = column_list[1:-1]\n",
    "#print(all_features)\n",
    "\n",
    "\n",
    "#List of features that DO NOT need to be label encoded!\n",
    "#On the CSV, A = 1, B = 2, etc.\n",
    "nums = [2,4,5,18,19,20,21,27,35,37,38,39,44,45,46,47,48,49,50,51,52,53,55,57,\n",
    "                   60,62,63,67,68,69,70,71,72,76,77,78]\n",
    "\n",
    "#Need to edit nums so that the features are correctly indexed!\n",
    "num_features = []\n",
    "for x in nums:\n",
    "    num_features.append(x -1)\n",
    "\n",
    "numeric_features =[]\n",
    "for x in column_list:\n",
    "    if len(num_features) > 0 and x == column_list[num_features[0]]:\n",
    "       # print(x, \" \", num_features[0])\n",
    "        numeric_features.append(x)\n",
    "        num_features.pop(0)\n"
   ]
  },
  {
   "cell_type": "code",
   "execution_count": 178,
   "metadata": {},
   "outputs": [],
   "source": [
    "# Get X from the training data\n",
    "X = houses_df[all_features]\n",
    "# select the target (last column) from the DataFrame\n",
    "y = houses_df['SalePrice']\n",
    "#X.head()\n",
    "label_encoder = preprocessing.LabelEncoder()\n",
    "for feat in string_features:\n",
    "    #print(feat)\n",
    "    X[feat] = label_encoder.fit_transform(X[feat].astype(str))\n",
    "#Need to replace NaN with 0 or else LinearRegression will not work.\n",
    "X.fillna(0, inplace=True)\n",
    "\n",
    "#X.head()"
   ]
  },
  {
   "cell_type": "code",
   "execution_count": 179,
   "metadata": {},
   "outputs": [],
   "source": [
    "#One Hot Encoding is broken!\n",
    "from sklearn.preprocessing import OneHotEncoder\n",
    "string_indexs_minus1 = []\n",
    "for i in string_indexs:\n",
    "    string_indexs_minus1.append(i -1)\n",
    "\n",
    "\n",
    "onehotencoder = OneHotEncoder(categorical_features = string_indexs_minus1)\n",
    "X_onehot = onehotencoder.fit_transform(X).toarray()\n",
    "X2 = pd.DataFrame(X_onehot)\n",
    "#X2.head()"
   ]
  },
  {
   "cell_type": "code",
   "execution_count": 180,
   "metadata": {},
   "outputs": [],
   "source": [
    "from  sklearn.decomposition import PCA\n",
    "n = 10\n",
    "my_pca = PCA(n_components=n)\n",
    "X = my_pca.fit_transform(X)\n",
    "X2 = my_pca.fit_transform(X2)\n"
   ]
  },
  {
   "cell_type": "code",
   "execution_count": 181,
   "metadata": {},
   "outputs": [
    {
     "name": "stdout",
     "output_type": "stream",
     "text": [
      "Lasso Regression(All Features - Label Encoding & OHE. Decompressed):           44689.69871685545\n",
      "Lasso Regression(All Features - Label Encoding. Decompressed):           44689.69866810303\n"
     ]
    }
   ],
   "source": [
    "from sklearn import linear_model\n",
    "lasso = linear_model.Lasso(alpha=0.1)\n",
    "accuracy_list_lasso_ohe_dec = cross_val_score(lasso, X, y, cv=10, scoring='neg_mean_squared_error')\n",
    "accuracy_list_lasso_dec = cross_val_score(lasso, X2, y, cv=10, scoring='neg_mean_squared_error')\n",
    "\n",
    "# function cross_val_score performs Cross Validation:\n",
    "\n",
    "\n",
    "rmse_lasso_ohe_dec = []\n",
    "rmse_lasso_dec = []\n",
    "for l in accuracy_list_lasso_ohe_dec:\n",
    "    x = np.sqrt(-1* l)\n",
    "    rmse_lasso_ohe_dec.append(x)\n",
    "\n",
    "for l in accuracy_list_lasso_dec:\n",
    "    x = np.sqrt(-1* l)\n",
    "    rmse_lasso_dec.append(x)\n",
    "\n",
    "print(\"Lasso Regression(All Features - Label Encoding & OHE. Decompressed):          \", List_Average(rmse_lasso_ohe_dec))   \n",
    "print(\"Lasso Regression(All Features - Label Encoding. Decompressed):          \", List_Average(rmse_lasso_dec))"
   ]
  },
  {
   "cell_type": "markdown",
   "metadata": {},
   "source": [
    "## (LE, OHE, & DEC)RMSE = 44689.6987\n",
    "## (LE & DEC)RMSE = 44689.6986\n",
    "Both values are extremely similar. \n",
    "\n",
    "The is only a .0001 difference"
   ]
  },
  {
   "cell_type": "code",
   "execution_count": 182,
   "metadata": {},
   "outputs": [
    {
     "data": {
      "image/png": "[encoded data removed]",
      "text/plain": [
       "<Figure size 432x288 with 1 Axes>"
      ]
     },
     "metadata": {
      "needs_background": "light"
     },
     "output_type": "display_data"
    }
   ],
   "source": [
    "data_points1 =rmse_lasso\n",
    "data_points2 =rmse_lasso_ohe\n",
    "data_points3 =rmse_lasso_ohe_dec\n",
    "data_points4 =rmse_lasso_dec\n",
    "\n",
    "x_values = range(1, len(rmse_lasso)+1)\n",
    "\n",
    "# solution\n",
    "a, b = best_fit(x_values, data_points1)\n",
    "c, d = best_fit(x_values, data_points2)\n",
    "e, f = best_fit(x_values, data_points3)\n",
    "g, h = best_fit(x_values, data_points4)\n",
    "\n",
    "\n",
    "# plot points and fit line\n",
    "plt.scatter(x_values, data_points1,color='red',s=100)\n",
    "yfit = [a + b * xi for xi in x_values]\n",
    "line1, =plt.plot(x_values, yfit,linewidth = 3,color='red', markerfacecolor='red', markersize=12, label='LE Only')\n",
    "\n",
    "plt.scatter(x_values, data_points2,color='orange',s=100)\n",
    "yfit2 = [c + d * xi for xi in x_values]\n",
    "line2, =plt.plot(x_values, yfit2,linewidth = 3,color='orange', markerfacecolor='orange', markersize=12, label='LE & OHE')\n",
    "\n",
    "plt.scatter(x_values, data_points3,color='yellow',s=100, alpha=.5)\n",
    "yfit3 = [e + f * xi for xi in x_values]\n",
    "line3, =plt.plot(x_values, yfit3,linestyle='-', alpha=.5,linewidth = 3,color='yellow', markerfacecolor='yellow', markersize=12, label='LE, OHE, & DEC')\n",
    "\n",
    "plt.scatter(x_values, data_points4,color='green',s=100, alpha=.5)\n",
    "yfit4 = [g + h * xi for xi in x_values]\n",
    "line4, =plt.plot(x_values, yfit4,linestyle=':', alpha=.5,linewidth = 3,color='green', markerfacecolor='green', markersize=12, label='LE % DEC')\n",
    "\n",
    "\n",
    "#line1, = plt.plot(x_values, data_points1,color='red', linestyle='dashed', linewidth = 3, marker='o', markerfacecolor='red', markersize=12, label='All Features - LE Only')\n",
    "plt.legend(handles=[line1,line2,line3,line4])\n",
    "\n",
    "# naming the x axis \n",
    "plt.xlabel('Cross Validation Folds') \n",
    "# naming the y axis \n",
    "plt.ylabel('RMSE') \n",
    "  \n",
    "# giving a title the graph\n",
    "plt.title('Lasso Regression on All Features')\n",
    "plt.show()"
   ]
  },
  {
   "cell_type": "markdown",
   "metadata": {},
   "source": [
    "## Lasso Regression with feature decomposition has the lowest RMSE.\n",
    "Both version using feature decomposition had similar results.\n",
    "\n",
    "RMSE = 44689.69\n"
   ]
  },
  {
   "cell_type": "code",
   "execution_count": null,
   "metadata": {},
   "outputs": [],
   "source": []
  },
  {
   "cell_type": "code",
   "execution_count": null,
   "metadata": {},
   "outputs": [],
   "source": []
  },
  {
   "cell_type": "code",
   "execution_count": null,
   "metadata": {},
   "outputs": [],
   "source": []
  },
  {
   "cell_type": "code",
   "execution_count": null,
   "metadata": {},
   "outputs": [],
   "source": []
  },
  {
   "cell_type": "code",
   "execution_count": null,
   "metadata": {},
   "outputs": [],
   "source": []
  },
  {
   "cell_type": "markdown",
   "metadata": {},
   "source": [
    "## 3.) SVR (Support Vector Regression)\n",
    "https://scikit-learn.org/stable/modules/generated/sklearn.svm.SVR.html"
   ]
  },
  {
   "cell_type": "markdown",
   "metadata": {},
   "source": [
    "## 3a.) SVR - All Features: LE Only"
   ]
  },
  {
   "cell_type": "code",
   "execution_count": 183,
   "metadata": {},
   "outputs": [],
   "source": [
    "column_list = []\n",
    "for col in houses_df.columns: \n",
    "    column_list.append(col)\n",
    "all_features = column_list[1:-1]\n",
    "\n",
    "\n",
    "#List of features that DO NOT need to be label encoded!\n",
    "#On the CSV, A = 1, B = 2, etc.\n",
    "nums = [2,4,5,18,19,20,21,27,35,37,38,39,44,45,46,47,48,49,50,51,52,53,55,57,\n",
    "                   60,62,63,67,68,69,70,71,72,76,77,78]\n",
    "\n",
    "#Need to edit nums so that the features are correctly indexed!\n",
    "num_features = []\n",
    "for x in nums:\n",
    "    num_features.append(x -1)\n",
    "\n",
    "numeric_features =[]\n",
    "for x in column_list:\n",
    "    if len(num_features) > 0 and x == column_list[num_features[0]]:\n",
    "       # print(x, \" \", num_features[0])\n",
    "        numeric_features.append(x)\n",
    "        num_features.pop(0)\n",
    "            "
   ]
  },
  {
   "cell_type": "code",
   "execution_count": 184,
   "metadata": {},
   "outputs": [],
   "source": [
    "# Get X from the training data\n",
    "X = houses_df[all_features]\n",
    "# select the target (last column) from the DataFrame\n",
    "y = houses_df['SalePrice']\n",
    "#X.head()\n",
    "\n",
    "\n",
    "label_encoder = preprocessing.LabelEncoder()\n",
    "for feat in string_features:\n",
    "    #print(feat)\n",
    "    X[feat] = label_encoder.fit_transform(X[feat].astype(str))\n",
    "#Need to replace NaN with 0 or else LinearRegression will not work.\n",
    "X.fillna(0, inplace=True)"
   ]
  },
  {
   "cell_type": "code",
   "execution_count": 185,
   "metadata": {},
   "outputs": [
    {
     "name": "stdout",
     "output_type": "stream",
     "text": [
      "SVR Regression(All Features - Label Encoding):                    47961.02959705294\n"
     ]
    }
   ],
   "source": [
    "from sklearn.svm import SVR\n",
    "svr = SVR(gamma='scale', C=1.0, epsilon=0.2)\n",
    "accuracy_list_svr = cross_val_score(svr, X, y, cv=10, scoring='neg_mean_squared_error')\n",
    "#ridge_r = ridge_r.fit(X_train, y_train) \n",
    "\n",
    "\n",
    "# function cross_val_score performs Cross Validation:\n",
    "\n",
    "\n",
    "rmse_list_svr = []\n",
    "for l in accuracy_list_svr:\n",
    "    x = np.sqrt(-1* l)\n",
    "    rmse_list_svr.append(x)\n",
    "    \n",
    "print(\"SVR Regression(All Features - Label Encoding):                   \", List_Average(rmse_list_svr))"
   ]
  },
  {
   "cell_type": "markdown",
   "metadata": {},
   "source": [
    "### RMSE = 47961.02\n",
    "SVR Regression on all features with LE give us a Higher RMSE in comparison to other models.\n",
    "It also takes a signifiantly longer amount of time to run as well."
   ]
  },
  {
   "cell_type": "markdown",
   "metadata": {},
   "source": [
    "## 3b.) SVR - All Features: LE & OHE"
   ]
  },
  {
   "cell_type": "code",
   "execution_count": 186,
   "metadata": {},
   "outputs": [],
   "source": [
    "column_list = []\n",
    "for col in houses_df.columns: \n",
    "    column_list.append(col)\n",
    "all_features = column_list[1:-1]\n",
    "\n",
    "\n",
    "#List of features that DO NOT need to be label encoded!\n",
    "#On the CSV, A = 1, B = 2, etc.\n",
    "nums = [2,4,5,18,19,20,21,27,35,37,38,39,44,45,46,47,48,49,50,51,52,53,55,57,\n",
    "                   60,62,63,67,68,69,70,71,72,76,77,78]\n",
    "\n",
    "#Need to edit nums so that the features are correctly indexed!\n",
    "num_features = []\n",
    "for x in nums:\n",
    "    num_features.append(x -1)\n",
    "\n",
    "numeric_features =[]\n",
    "for x in column_list:\n",
    "    if len(num_features) > 0 and x == column_list[num_features[0]]:\n",
    "       # print(x, \" \", num_features[0])\n",
    "        numeric_features.append(x)\n",
    "        num_features.pop(0)\n",
    "            "
   ]
  },
  {
   "cell_type": "code",
   "execution_count": 187,
   "metadata": {},
   "outputs": [],
   "source": [
    "# Get X from the training data\n",
    "X = houses_df[all_features]\n",
    "# select the target (last column) from the DataFrame\n",
    "y = houses_df['SalePrice']\n",
    "#X.head()\n",
    "\n",
    "\n",
    "label_encoder = preprocessing.LabelEncoder()\n",
    "for feat in string_features:\n",
    "    #print(feat)\n",
    "    X[feat] = label_encoder.fit_transform(X[feat].astype(str))\n",
    "#Need to replace NaN with 0 or else LinearRegression will not work.\n",
    "X.fillna(0, inplace=True)\n",
    "\n",
    "\n",
    "#One Hot Encoding is broken!\n",
    "from sklearn.preprocessing import OneHotEncoder\n",
    "string_indexs_minus1 = []\n",
    "for i in string_indexs:\n",
    "    string_indexs_minus1.append(i -1)\n",
    "\n",
    "#print(string_indexs_minus1)   \n",
    "onehotencoder = OneHotEncoder(categorical_features = string_indexs_minus1)\n",
    "X_onehot = onehotencoder.fit_transform(X).toarray()\n",
    "X = pd.DataFrame(X_onehot)\n"
   ]
  },
  {
   "cell_type": "code",
   "execution_count": 188,
   "metadata": {},
   "outputs": [
    {
     "name": "stdout",
     "output_type": "stream",
     "text": [
      "SVR Regression(All Features - Label Encoding & One Hot Encoding:                    47962.10949893759\n"
     ]
    }
   ],
   "source": [
    "from sklearn.svm import SVR\n",
    "svr = SVR(gamma='scale', C=1.0, epsilon=0.2)\n",
    "accuracy_list_svr_ohe = cross_val_score(svr, X, y, cv=10, scoring='neg_mean_squared_error')\n",
    "#ridge_r = ridge_r.fit(X_train, y_train) \n",
    "\n",
    "\n",
    "# function cross_val_score performs Cross Validation:\n",
    "\n",
    "\n",
    "rmse_list_svr_ohe = []\n",
    "for l in accuracy_list_svr_ohe:\n",
    "    x = np.sqrt(-1* l)\n",
    "    rmse_list_svr_ohe.append(x)\n",
    "    \n",
    "print(\"SVR Regression(All Features - Label Encoding & One Hot Encoding:                   \", List_Average(rmse_list_svr_ohe))"
   ]
  },
  {
   "cell_type": "markdown",
   "metadata": {},
   "source": [
    "### RMSE = 47962.10\n",
    "SVR Regression on all features with LE and OHE give us a Higher RMSE than without OHE.\n",
    "Next we will try SVR with feature decompisition."
   ]
  },
  {
   "cell_type": "markdown",
   "metadata": {},
   "source": [
    "## 3c.) SVR - All Features: LE & OHE & DEC"
   ]
  },
  {
   "cell_type": "code",
   "execution_count": 189,
   "metadata": {},
   "outputs": [],
   "source": [
    "column_list = []\n",
    "for col in houses_df.columns: \n",
    "    column_list.append(col)\n",
    "all_features = column_list[1:-1]\n",
    "\n",
    "\n",
    "#List of features that DO NOT need to be label encoded!\n",
    "#On the CSV, A = 1, B = 2, etc.\n",
    "nums = [2,4,5,18,19,20,21,27,35,37,38,39,44,45,46,47,48,49,50,51,52,53,55,57,\n",
    "                   60,62,63,67,68,69,70,71,72,76,77,78]\n",
    "\n",
    "#Need to edit nums so that the features are correctly indexed!\n",
    "num_features = []\n",
    "for x in nums:\n",
    "    num_features.append(x -1)\n",
    "\n",
    "numeric_features =[]\n",
    "for x in column_list:\n",
    "    if len(num_features) > 0 and x == column_list[num_features[0]]:\n",
    "       # print(x, \" \", num_features[0])\n",
    "        numeric_features.append(x)\n",
    "        num_features.pop(0)\n",
    "            "
   ]
  },
  {
   "cell_type": "code",
   "execution_count": 190,
   "metadata": {},
   "outputs": [
    {
     "name": "stdout",
     "output_type": "stream",
     "text": [
      "SVR Regression(All Features - LE & OHE & DEC):                    47922.98840256698\n"
     ]
    }
   ],
   "source": [
    "# Get X from the training data\n",
    "X = houses_df[all_features]\n",
    "# select the target (last column) from the DataFrame\n",
    "y = houses_df['SalePrice']\n",
    "#X.head()\n",
    "\n",
    "\n",
    "label_encoder = preprocessing.LabelEncoder()\n",
    "for feat in string_features:\n",
    "    #print(feat)\n",
    "    X[feat] = label_encoder.fit_transform(X[feat].astype(str))\n",
    "#Need to replace NaN with 0 or else LinearRegression will not work.\n",
    "X.fillna(0, inplace=True)\n",
    "\n",
    "\n",
    "#One Hot Encoding is broken!\n",
    "from sklearn.preprocessing import OneHotEncoder\n",
    "string_indexs_minus1 = []\n",
    "for i in string_indexs:\n",
    "    string_indexs_minus1.append(i -1)\n",
    "\n",
    "#print(string_indexs_minus1)   \n",
    "onehotencoder = OneHotEncoder(categorical_features = string_indexs_minus1)\n",
    "X_onehot = onehotencoder.fit_transform(X).toarray()\n",
    "X = pd.DataFrame(X_onehot)\n",
    "\n",
    "\n",
    "from  sklearn.decomposition import PCA\n",
    "n = 10\n",
    "my_pca = PCA(n_components=n)\n",
    "X = my_pca.fit_transform(X)\n",
    "\n",
    "\n",
    "\n",
    "from sklearn.svm import SVR\n",
    "svr = SVR(gamma='scale', C=1.0, epsilon=0.2)\n",
    "accuracy_list_svr_dec = cross_val_score(svr, X, y, cv=10, scoring='neg_mean_squared_error')\n",
    "#ridge_r = ridge_r.fit(X_train, y_train) \n",
    "\n",
    "\n",
    "# function cross_val_score performs Cross Validation:\n",
    "\n",
    "\n",
    "rmse_list_svr_dec = []\n",
    "for l in accuracy_list_svr_dec:\n",
    "    x = np.sqrt(-1* l)\n",
    "    rmse_list_svr_dec.append(x)\n",
    "    \n",
    "print(\"SVR Regression(All Features - LE & OHE & DEC):                   \", List_Average(rmse_list_svr_dec))\n",
    "\n"
   ]
  },
  {
   "cell_type": "markdown",
   "metadata": {},
   "source": [
    "### RMSE = 47922.98\n",
    "Altough this is the lowest RMSE for SVR, other models provide better overall results."
   ]
  },
  {
   "cell_type": "code",
   "execution_count": 191,
   "metadata": {},
   "outputs": [
    {
     "data": {
      "image/png": "[encoded data removed]",
      "text/plain": [
       "<Figure size 432x288 with 1 Axes>"
      ]
     },
     "metadata": {
      "needs_background": "light"
     },
     "output_type": "display_data"
    }
   ],
   "source": [
    "data_points1 =rmse_list_svr\n",
    "data_points2 =rmse_list_svr_ohe\n",
    "data_points3 =rmse_list_svr_dec\n",
    "\n",
    "\n",
    "x_values = range(1, len(rmse_list_rr_10)+1)\n",
    "\n",
    "# solution\n",
    "a, b = best_fit(x_values, data_points1)\n",
    "c, d = best_fit(x_values, data_points2)\n",
    "e, f = best_fit(x_values, data_points3)\n",
    "#g, h = best_fit(x_values, data_points4)\n",
    "#i, j = best_fit(x_values, data_points5)\n",
    "\n",
    "\n",
    "# plot points and fit line\n",
    "plt.scatter(x_values, data_points1,color='red',s=100, alpha=.5)\n",
    "yfit = [a + b * xi for xi in x_values]\n",
    "line1, =plt.plot(x_values, yfit,linestyle=':',linewidth = 10,color='red', markerfacecolor='red', markersize=12, label='LE Only')\n",
    "\n",
    "plt.scatter(x_values, data_points2,color='yellow',s=100, alpha=.5)\n",
    "yfit2 = [c + d * xi for xi in x_values]\n",
    "line2, =plt.plot(x_values, yfit2,linestyle='--',linewidth = 3,color='yellow', markerfacecolor='yellow', markersize=12, label='LE & OHE')\n",
    "\n",
    "\n",
    "plt.scatter(x_values, data_points3,color='blue',s=100, alpha=.5)\n",
    "yfit3 = [e + f * xi for xi in x_values]\n",
    "line3, =plt.plot(x_values, yfit3,linestyle='-.',linewidth = 3,color='blue', markerfacecolor='blue', markersize=12, label='LE, OHE, & DEC')\n",
    "\n",
    "\n",
    "\n",
    "#line1, = plt.plot(x_values, data_points1,color='red', linestyle='dashed', linewidth = 3, marker='o', markerfacecolor='red', markersize=12, label='All Features - LE Only')\n",
    "plt.legend(handles=[line1,line2,line3])\n",
    "\n",
    "# naming the x axis \n",
    "plt.xlabel('Cross Validation Folds') \n",
    "# naming the y axis \n",
    "plt.ylabel('RMSE') \n",
    "  \n",
    "# giving a title the graph\n",
    "plt.title('SVR on All Features')\n",
    "plt.show()"
   ]
  },
  {
   "cell_type": "markdown",
   "metadata": {},
   "source": [
    "## All of the SVR attempts were extremely similar.\n",
    "Since all of the values were extremely similar, then lines and dots are overlapping on the graph. "
   ]
  },
  {
   "cell_type": "markdown",
   "metadata": {},
   "source": [
    "## 4.) Random Forest Regression\n",
    "We are going to apply a RFR model and see what RMSE values we obtain.\n",
    "\n",
    "We are going to use all features and decomposition them since when we do, we obtain the best results.\n"
   ]
  },
  {
   "cell_type": "markdown",
   "metadata": {},
   "source": [
    "## 4a.) LE & DEC on All features"
   ]
  },
  {
   "cell_type": "markdown",
   "metadata": {},
   "source": [
    "## 4b.) LE , OHE, & DEC on All features"
   ]
  },
  {
   "cell_type": "code",
   "execution_count": 192,
   "metadata": {},
   "outputs": [],
   "source": [
    "column_list = []\n",
    "for col in houses_df.columns: \n",
    "    column_list.append(col)\n",
    "all_features = column_list[1:-1]\n",
    "\n",
    "\n",
    "#List of features that DO NOT need to be label encoded!\n",
    "#On the CSV, A = 1, B = 2, etc.\n",
    "nums = [2,4,5,18,19,20,21,27,35,37,38,39,44,45,46,47,48,49,50,51,52,53,55,57,\n",
    "                   60,62,63,67,68,69,70,71,72,76,77,78]\n",
    "\n",
    "#Need to edit nums so that the features are correctly indexed!\n",
    "num_features = []\n",
    "for x in nums:\n",
    "    num_features.append(x -1)\n",
    "\n",
    "numeric_features =[]\n",
    "for x in column_list:\n",
    "    if len(num_features) > 0 and x == column_list[num_features[0]]:\n",
    "       # print(x, \" \", num_features[0])\n",
    "        numeric_features.append(x)\n",
    "        num_features.pop(0)\n",
    "            "
   ]
  },
  {
   "cell_type": "code",
   "execution_count": 193,
   "metadata": {},
   "outputs": [
    {
     "name": "stdout",
     "output_type": "stream",
     "text": [
      "Random Forest Regression(All Features - Label Encoding & OHE. Decompressed):           45412.165859726025\n",
      "Random Forest Regression(All Features - Label Encoding. Decompressed):           45411.54520396483\n"
     ]
    }
   ],
   "source": [
    "# Get X from the training data\n",
    "X = houses_df[all_features]\n",
    "# select the target (last column) from the DataFrame\n",
    "y = houses_df['SalePrice']\n",
    "#X.head()\n",
    "\n",
    "\n",
    "label_encoder = preprocessing.LabelEncoder()\n",
    "for feat in string_features:\n",
    "    #print(feat)\n",
    "    X[feat] = label_encoder.fit_transform(X[feat].astype(str))\n",
    "#Need to replace NaN with 0 or else LinearRegression will not work.\n",
    "X.fillna(0, inplace=True)\n",
    "\n",
    "\n",
    "#One Hot Encoding is broken!\n",
    "from sklearn.preprocessing import OneHotEncoder\n",
    "string_indexs_minus1 = []\n",
    "for i in string_indexs:\n",
    "    string_indexs_minus1.append(i -1)\n",
    "\n",
    "#print(string_indexs_minus1)   \n",
    "onehotencoder = OneHotEncoder(categorical_features = string_indexs_minus1)\n",
    "X_onehot = onehotencoder.fit_transform(X).toarray()\n",
    "X2 = pd.DataFrame(X_onehot)\n",
    "\n",
    "\n",
    "from  sklearn.decomposition import PCA\n",
    "n = 10\n",
    "my_pca = PCA(n_components=n)\n",
    "X = my_pca.fit_transform(X)\n",
    "X2 = my_pca.fit_transform(X2)\n",
    "\n",
    "\n",
    "\n",
    "\n",
    "\n",
    "\n",
    "\n",
    "from sklearn.ensemble import RandomForestRegressor\n",
    "\n",
    "regr = RandomForestRegressor(max_depth=4, random_state=0,n_estimators=100)\n",
    "\n",
    "accuracy_list_rf_ohe_dec = cross_val_score(regr, X, y, cv=10, scoring='neg_mean_squared_error')\n",
    "accuracy_list_rf_dec = cross_val_score(regr, X2, y, cv=10, scoring='neg_mean_squared_error')\n",
    "\n",
    "# function cross_val_score performs Cross Validation:\n",
    "\n",
    "\n",
    "rmse_rf_ohe_dec = []\n",
    "rmse_rf_dec = []\n",
    "for l in accuracy_list_rf_ohe_dec:\n",
    "    x = np.sqrt(-1* l)\n",
    "    rmse_rf_ohe_dec.append(x)\n",
    "\n",
    "for l in accuracy_list_rf_dec:\n",
    "    x = np.sqrt(-1* l)\n",
    "    rmse_rf_dec.append(x)\n",
    "\n",
    "print(\"Random Forest Regression(All Features - Label Encoding & OHE. Decompressed):          \", List_Average(rmse_rf_ohe_dec))   \n",
    "print(\"Random Forest Regression(All Features - Label Encoding. Decompressed):          \", List_Average(rmse_rf_dec))"
   ]
  },
  {
   "cell_type": "markdown",
   "metadata": {},
   "source": [
    "## (LE, OHE, & DEC)RMSE = 45412.16\n",
    "## (LE & DEC)RMSE = 45411.54\n",
    "Both values are extremely similar. \n",
    "\n",
    "The is only a .6 difference"
   ]
  },
  {
   "cell_type": "code",
   "execution_count": 194,
   "metadata": {},
   "outputs": [
    {
     "data": {
      "image/png": "[encoded data removed]",
      "text/plain": [
       "<Figure size 432x288 with 1 Axes>"
      ]
     },
     "metadata": {
      "needs_background": "light"
     },
     "output_type": "display_data"
    }
   ],
   "source": [
    "data_points1 =rmse_rf_ohe_dec\n",
    "data_points2 =rmse_rf_dec\n",
    "\n",
    "\n",
    "x_values = range(1, len(rmse_rf_dec)+1)\n",
    "\n",
    "# solution\n",
    "a, b = best_fit(x_values, data_points1)\n",
    "c, d = best_fit(x_values, data_points2)\n",
    "\n",
    "\n",
    "# plot points and fit line\n",
    "plt.scatter(x_values, data_points1,color='red',s=100, alpha=.5)\n",
    "yfit = [a + b * xi for xi in x_values]\n",
    "line1, =plt.plot(x_values, yfit,linestyle=':',linewidth = 10,color='red', markerfacecolor='red', markersize=12, label='LE, OHE, & DEC')\n",
    "\n",
    "plt.scatter(x_values, data_points2,color='blue',s=100, alpha=.5)\n",
    "yfit2 = [c + d * xi for xi in x_values]\n",
    "line2, =plt.plot(x_values, yfit2,linestyle='--',linewidth = 3,color='blue', markerfacecolor='blue', markersize=12, label='LE & DEC')\n",
    "\n",
    "#line1, = plt.plot(x_values, data_points1,color='red', linestyle='dashed', linewidth = 3, marker='o', markerfacecolor='red', markersize=12, label='All Features - LE Only')\n",
    "plt.legend(handles=[line1,line2])\n",
    "\n",
    "# naming the x axis \n",
    "plt.xlabel('Cross Validation Folds') \n",
    "# naming the y axis \n",
    "plt.ylabel('RMSE') \n",
    "  \n",
    "# giving a title the graph\n",
    "plt.title('Random Forest Regression on All Features')\n",
    "plt.show()"
   ]
  },
  {
   "cell_type": "markdown",
   "metadata": {},
   "source": [
    "## 5.) Ridge Regression "
   ]
  },
  {
   "cell_type": "markdown",
   "metadata": {},
   "source": [
    "## 5a.) 10 features, Label Encoding"
   ]
  },
  {
   "cell_type": "code",
   "execution_count": 195,
   "metadata": {},
   "outputs": [
    {
     "name": "stdout",
     "output_type": "stream",
     "text": [
      "Ridge Regression(10 Features - Label Encoding):                    46600.20485218898\n"
     ]
    }
   ],
   "source": [
    "from sklearn.linear_model import Ridge\n",
    "# Creating the Feature Matrix:\n",
    "# hand selected features that we thought would give us a decent regression.\n",
    "feature_cols = ['LotArea','Neighborhood', 'BldgType', 'HouseStyle','YearBuilt', 'FullBath', 'YearRemodAdd', 'Foundation','SaleType', 'SaleCondition']\n",
    "\n",
    "# Get X from the training data\n",
    "X = houses_df[feature_cols]\n",
    "# select the target (last column) from the DataFrame\n",
    "y = houses_df['SalePrice']\n",
    "\n",
    "# label_encoder object knows how to understand word labels. \n",
    "label_encoder = preprocessing.LabelEncoder() \n",
    "  \n",
    "# Encode labels in column 'species'. \n",
    "X['Neighborhood']= label_encoder.fit_transform(X['Neighborhood']) \n",
    "X['BldgType']= label_encoder.fit_transform(X['BldgType']) \n",
    "X['HouseStyle']= label_encoder.fit_transform(X['HouseStyle']) \n",
    "X['Foundation']= label_encoder.fit_transform(X['Foundation'])\n",
    "X['SaleType'] = label_encoder.fit_transform(X['SaleType'].astype(str))\n",
    "X['SaleCondition']= label_encoder.fit_transform(X['SaleCondition']) \n",
    "\n",
    "\n",
    "ridge_r = Ridge(alpha=1.0)\n",
    "accuracy_list_rr_10 = cross_val_score(ridge_r, X, y, cv=10, scoring='neg_mean_squared_error')\n",
    "#ridge_r = ridge_r.fit(X_train, y_train) \n",
    "\n",
    "\n",
    "# function cross_val_score performs Cross Validation:\n",
    "\n",
    "\n",
    "rmse_list_rr_10 = []\n",
    "for l in accuracy_list_rr_10:\n",
    "    x = np.sqrt(-1* l)\n",
    "    rmse_list_rr_10.append(x)\n",
    "    \n",
    "print(\"Ridge Regression(10 Features - Label Encoding):                   \", List_Average(rmse_list_rr_10))"
   ]
  },
  {
   "cell_type": "markdown",
   "metadata": {},
   "source": [
    "### Ridge Regression on 10 features give us similar RMSE to Linear Regression with 10 features\n",
    "RMSE = 46600.20, RMSE of Linear Regression with 10 features is 46602.33\n",
    "\n",
    "Extremely similar."
   ]
  },
  {
   "cell_type": "markdown",
   "metadata": {},
   "source": [
    "## 5b.) Ridge Regression (10 features, Label Encoding and One Hot Encoding)"
   ]
  },
  {
   "cell_type": "code",
   "execution_count": 196,
   "metadata": {},
   "outputs": [
    {
     "name": "stdout",
     "output_type": "stream",
     "text": [
      "Ridge Regression(10 Features - Label Encoding & OHE):                    46652.33830994106\n"
     ]
    }
   ],
   "source": [
    "from sklearn.linear_model import Ridge\n",
    "# Creating the Feature Matrix:\n",
    "# hand selected features that we thought would give us a decent regression.\n",
    "feature_cols = ['LotArea','Neighborhood', 'BldgType', 'HouseStyle','YearBuilt', 'FullBath', 'YearRemodAdd', 'Foundation','SaleType', 'SaleCondition']\n",
    "\n",
    "# Get X from the training data\n",
    "X = houses_df[feature_cols]\n",
    "# select the target (last column) from the DataFrame\n",
    "y = houses_df['SalePrice']\n",
    "\n",
    "# label_encoder object knows how to understand word labels. \n",
    "label_encoder = preprocessing.LabelEncoder() \n",
    "  \n",
    "# Encode labels in column 'species'. \n",
    "X['Neighborhood']= label_encoder.fit_transform(X['Neighborhood']) \n",
    "X['BldgType']= label_encoder.fit_transform(X['BldgType']) \n",
    "X['HouseStyle']= label_encoder.fit_transform(X['HouseStyle']) \n",
    "X['Foundation']= label_encoder.fit_transform(X['Foundation'])\n",
    "X['SaleType'] = label_encoder.fit_transform(X['SaleType'].astype(str))\n",
    "X['SaleCondition']= label_encoder.fit_transform(X['SaleCondition']) \n",
    "\n",
    "from sklearn.preprocessing import OneHotEncoder\n",
    "onehotencoder = OneHotEncoder(categorical_features = [1,2,3,7,8,9])\n",
    "X_onehot = onehotencoder.fit_transform(X).toarray()\n",
    "X = pd.DataFrame(X_onehot)\n",
    "\n",
    "ridge_r = Ridge(alpha=1.0)\n",
    "accuracy_list_rr_10_ohe = cross_val_score(ridge_r, X, y, cv=10, scoring='neg_mean_squared_error')\n",
    "#ridge_r = ridge_r.fit(X_train, y_train) \n",
    "\n",
    "\n",
    "# function cross_val_score performs Cross Validation:\n",
    "\n",
    "\n",
    "rmse_list_rr_10_ohe = []\n",
    "for l in accuracy_list_rr_10_ohe:\n",
    "    x = np.sqrt(-1* l)\n",
    "    rmse_list_rr_10_ohe.append(x)\n",
    "    \n",
    "print(\"Ridge Regression(10 Features - Label Encoding & OHE):                   \", List_Average(rmse_list_rr_10_ohe))"
   ]
  },
  {
   "cell_type": "markdown",
   "metadata": {},
   "source": [
    "### Ridge Regression on 10 features with OHE give us a Higher RMSE than without it.\n",
    "RMSE = 46652.33, RMSE of Ridge Regression with no OHE is 46600.20"
   ]
  },
  {
   "cell_type": "markdown",
   "metadata": {},
   "source": [
    "## 5c.) Ridge Regression on all features with LE\n",
    "We are now going to try and get a lower RMSE by including all of the features in the data set."
   ]
  },
  {
   "cell_type": "code",
   "execution_count": 197,
   "metadata": {},
   "outputs": [
    {
     "name": "stdout",
     "output_type": "stream",
     "text": [
      "['MSSubClass', 'LotFrontage', 'LotArea', 'OverallQual', 'OverallCond', 'YearBuilt', 'YearRemodAdd', 'MasVnrArea', 'BsmtFinSF1', 'BsmtFinSF2', 'BsmtUnfSF', 'TotalBsmtSF', '1stFlrSF', '2ndFlrSF', 'LowQualFinSF', 'GrLivArea', 'BsmtFullBath', 'BsmtHalfBath', 'FullBath', 'HalfBath', 'BedroomAbvGr', 'KitchenAbvGr', 'TotRmsAbvGrd', 'Fireplaces', 'GarageYrBlt', 'GarageCars', 'GarageArea', 'WoodDeckSF', 'OpenPorchSF', 'EnclosedPorch', '3SsnPorch', 'ScreenPorch', 'PoolArea', 'MiscVal', 'MoSold', 'YrSold']\n"
     ]
    }
   ],
   "source": [
    "column_list = []\n",
    "for col in houses_df.columns: \n",
    "    column_list.append(col)\n",
    "all_features = column_list[1:-1]\n",
    "#print(all_features)\n",
    "\n",
    "\n",
    "#List of features that DO NOT need to be label encoded!\n",
    "#On the CSV, A = 1, B = 2, etc.\n",
    "nums = [2,4,5,18,19,20,21,27,35,37,38,39,44,45,46,47,48,49,50,51,52,53,55,57,\n",
    "                   60,62,63,67,68,69,70,71,72,76,77,78]\n",
    "\n",
    "#Need to edit nums so that the features are correctly indexed!\n",
    "num_features = []\n",
    "for x in nums:\n",
    "    num_features.append(x -1)\n",
    "\n",
    "numeric_features =[]\n",
    "for x in column_list:\n",
    "    if len(num_features) > 0 and x == column_list[num_features[0]]:\n",
    "       # print(x, \" \", num_features[0])\n",
    "        numeric_features.append(x)\n",
    "        num_features.pop(0)\n",
    "            \n",
    "            \n",
    "print(numeric_features)"
   ]
  },
  {
   "cell_type": "code",
   "execution_count": 198,
   "metadata": {},
   "outputs": [],
   "source": [
    "# Get X from the training data\n",
    "X = houses_df[all_features]\n",
    "# select the target (last column) from the DataFrame\n",
    "y = houses_df['SalePrice']\n",
    "#X.head()\n"
   ]
  },
  {
   "cell_type": "code",
   "execution_count": 199,
   "metadata": {},
   "outputs": [],
   "source": [
    "\n",
    "label_encoder = preprocessing.LabelEncoder()\n",
    "for feat in string_features:\n",
    "    #print(feat)\n",
    "    X[feat] = label_encoder.fit_transform(X[feat].astype(str))\n",
    "#Need to replace NaN with 0 or else LinearRegression will not work.\n",
    "X.fillna(0, inplace=True)"
   ]
  },
  {
   "cell_type": "code",
   "execution_count": 200,
   "metadata": {},
   "outputs": [
    {
     "name": "stdout",
     "output_type": "stream",
     "text": [
      "Ridge Regression(All Features - Label Encoding):                    45063.014333470725\n"
     ]
    }
   ],
   "source": [
    "\n",
    "ridge_r = Ridge(alpha=1.0)\n",
    "accuracy_list_rr_all = cross_val_score(ridge_r, X, y, cv=10, scoring='neg_mean_squared_error')\n",
    "#ridge_r = ridge_r.fit(X_train, y_train) \n",
    "\n",
    "\n",
    "# function cross_val_score performs Cross Validation:\n",
    "\n",
    "\n",
    "rmse_list_rr_all = []\n",
    "for l in accuracy_list_rr_all:\n",
    "    x = np.sqrt(-1* l)\n",
    "    rmse_list_rr_all.append(x)\n",
    "    \n",
    "print(\"Ridge Regression(All Features - Label Encoding):                   \", List_Average(rmse_list_rr_all))"
   ]
  },
  {
   "cell_type": "markdown",
   "metadata": {},
   "source": [
    "### RMSE = 45063.01\n",
    "This is the new lowest RMSE.\n",
    "By using cross validation, we were able to lower the RMSE from part 2a."
   ]
  },
  {
   "cell_type": "markdown",
   "metadata": {},
   "source": [
    "## 5d.) Ridge Regression on all features with LE and OHE"
   ]
  },
  {
   "cell_type": "code",
   "execution_count": 201,
   "metadata": {},
   "outputs": [
    {
     "name": "stdout",
     "output_type": "stream",
     "text": [
      "['MSSubClass', 'LotFrontage', 'LotArea', 'OverallQual', 'OverallCond', 'YearBuilt', 'YearRemodAdd', 'MasVnrArea', 'BsmtFinSF1', 'BsmtFinSF2', 'BsmtUnfSF', 'TotalBsmtSF', '1stFlrSF', '2ndFlrSF', 'LowQualFinSF', 'GrLivArea', 'BsmtFullBath', 'BsmtHalfBath', 'FullBath', 'HalfBath', 'BedroomAbvGr', 'KitchenAbvGr', 'TotRmsAbvGrd', 'Fireplaces', 'GarageYrBlt', 'GarageCars', 'GarageArea', 'WoodDeckSF', 'OpenPorchSF', 'EnclosedPorch', '3SsnPorch', 'ScreenPorch', 'PoolArea', 'MiscVal', 'MoSold', 'YrSold']\n"
     ]
    }
   ],
   "source": [
    "column_list = []\n",
    "for col in houses_df.columns: \n",
    "    column_list.append(col)\n",
    "all_features = column_list[1:-1]\n",
    "#print(all_features)\n",
    "\n",
    "\n",
    "#List of features that DO NOT need to be label encoded!\n",
    "#On the CSV, A = 1, B = 2, etc.\n",
    "nums = [2,4,5,18,19,20,21,27,35,37,38,39,44,45,46,47,48,49,50,51,52,53,55,57,\n",
    "                   60,62,63,67,68,69,70,71,72,76,77,78]\n",
    "\n",
    "#Need to edit nums so that the features are correctly indexed!\n",
    "num_features = []\n",
    "for x in nums:\n",
    "    num_features.append(x -1)\n",
    "\n",
    "numeric_features =[]\n",
    "for x in column_list:\n",
    "    if len(num_features) > 0 and x == column_list[num_features[0]]:\n",
    "       # print(x, \" \", num_features[0])\n",
    "        numeric_features.append(x)\n",
    "        num_features.pop(0)\n",
    "            \n",
    "            \n",
    "print(numeric_features)"
   ]
  },
  {
   "cell_type": "code",
   "execution_count": 202,
   "metadata": {},
   "outputs": [],
   "source": [
    "# Get X from the training data\n",
    "X = houses_df[all_features]\n",
    "# select the target (last column) from the DataFrame\n",
    "y = houses_df['SalePrice']\n",
    "#X.head()\n",
    "label_encoder = preprocessing.LabelEncoder()\n",
    "for feat in string_features:\n",
    "    #print(feat)\n",
    "    X[feat] = label_encoder.fit_transform(X[feat].astype(str))\n",
    "#Need to replace NaN with 0 or else LinearRegression will not work.\n",
    "X.fillna(0, inplace=True)"
   ]
  },
  {
   "cell_type": "code",
   "execution_count": 203,
   "metadata": {},
   "outputs": [
    {
     "name": "stdout",
     "output_type": "stream",
     "text": [
      "[1, 4, 5, 6, 7, 8, 9, 10, 11, 12, 13, 14, 15, 20, 21, 22, 23, 24, 26, 27, 28, 29, 30, 31, 32, 34, 38, 39, 40, 41, 52, 54, 56, 57, 59, 62, 63, 64, 71, 72, 73, 77, 78]\n"
     ]
    },
    {
     "data": {
      "text/html": [
       "<div>\n",
       "<style scoped>\n",
       "    .dataframe tbody tr th:only-of-type {\n",
       "        vertical-align: middle;\n",
       "    }\n",
       "\n",
       "    .dataframe tbody tr th {\n",
       "        vertical-align: top;\n",
       "    }\n",
       "\n",
       "    .dataframe thead th {\n",
       "        text-align: right;\n",
       "    }\n",
       "</style>\n",
       "<table border=\"1\" class=\"dataframe\">\n",
       "  <thead>\n",
       "    <tr style=\"text-align: right;\">\n",
       "      <th></th>\n",
       "      <th>0</th>\n",
       "      <th>1</th>\n",
       "      <th>2</th>\n",
       "      <th>3</th>\n",
       "      <th>4</th>\n",
       "      <th>5</th>\n",
       "      <th>6</th>\n",
       "      <th>7</th>\n",
       "      <th>8</th>\n",
       "      <th>9</th>\n",
       "      <th>...</th>\n",
       "      <th>301</th>\n",
       "      <th>302</th>\n",
       "      <th>303</th>\n",
       "      <th>304</th>\n",
       "      <th>305</th>\n",
       "      <th>306</th>\n",
       "      <th>307</th>\n",
       "      <th>308</th>\n",
       "      <th>309</th>\n",
       "      <th>310</th>\n",
       "    </tr>\n",
       "  </thead>\n",
       "  <tbody>\n",
       "    <tr>\n",
       "      <th>0</th>\n",
       "      <td>0.0</td>\n",
       "      <td>0.0</td>\n",
       "      <td>0.0</td>\n",
       "      <td>1.0</td>\n",
       "      <td>0.0</td>\n",
       "      <td>0.0</td>\n",
       "      <td>0.0</td>\n",
       "      <td>1.0</td>\n",
       "      <td>0.0</td>\n",
       "      <td>0.0</td>\n",
       "      <td>...</td>\n",
       "      <td>548.0</td>\n",
       "      <td>0.0</td>\n",
       "      <td>61.0</td>\n",
       "      <td>0.0</td>\n",
       "      <td>0.0</td>\n",
       "      <td>0.0</td>\n",
       "      <td>0.0</td>\n",
       "      <td>0.0</td>\n",
       "      <td>2.0</td>\n",
       "      <td>2008.0</td>\n",
       "    </tr>\n",
       "    <tr>\n",
       "      <th>1</th>\n",
       "      <td>0.0</td>\n",
       "      <td>0.0</td>\n",
       "      <td>0.0</td>\n",
       "      <td>1.0</td>\n",
       "      <td>0.0</td>\n",
       "      <td>0.0</td>\n",
       "      <td>0.0</td>\n",
       "      <td>1.0</td>\n",
       "      <td>0.0</td>\n",
       "      <td>0.0</td>\n",
       "      <td>...</td>\n",
       "      <td>460.0</td>\n",
       "      <td>298.0</td>\n",
       "      <td>0.0</td>\n",
       "      <td>0.0</td>\n",
       "      <td>0.0</td>\n",
       "      <td>0.0</td>\n",
       "      <td>0.0</td>\n",
       "      <td>0.0</td>\n",
       "      <td>5.0</td>\n",
       "      <td>2007.0</td>\n",
       "    </tr>\n",
       "    <tr>\n",
       "      <th>2</th>\n",
       "      <td>0.0</td>\n",
       "      <td>0.0</td>\n",
       "      <td>0.0</td>\n",
       "      <td>1.0</td>\n",
       "      <td>0.0</td>\n",
       "      <td>0.0</td>\n",
       "      <td>0.0</td>\n",
       "      <td>1.0</td>\n",
       "      <td>0.0</td>\n",
       "      <td>0.0</td>\n",
       "      <td>...</td>\n",
       "      <td>608.0</td>\n",
       "      <td>0.0</td>\n",
       "      <td>42.0</td>\n",
       "      <td>0.0</td>\n",
       "      <td>0.0</td>\n",
       "      <td>0.0</td>\n",
       "      <td>0.0</td>\n",
       "      <td>0.0</td>\n",
       "      <td>9.0</td>\n",
       "      <td>2008.0</td>\n",
       "    </tr>\n",
       "    <tr>\n",
       "      <th>3</th>\n",
       "      <td>0.0</td>\n",
       "      <td>0.0</td>\n",
       "      <td>0.0</td>\n",
       "      <td>1.0</td>\n",
       "      <td>0.0</td>\n",
       "      <td>0.0</td>\n",
       "      <td>0.0</td>\n",
       "      <td>1.0</td>\n",
       "      <td>0.0</td>\n",
       "      <td>0.0</td>\n",
       "      <td>...</td>\n",
       "      <td>642.0</td>\n",
       "      <td>0.0</td>\n",
       "      <td>35.0</td>\n",
       "      <td>272.0</td>\n",
       "      <td>0.0</td>\n",
       "      <td>0.0</td>\n",
       "      <td>0.0</td>\n",
       "      <td>0.0</td>\n",
       "      <td>2.0</td>\n",
       "      <td>2006.0</td>\n",
       "    </tr>\n",
       "    <tr>\n",
       "      <th>4</th>\n",
       "      <td>0.0</td>\n",
       "      <td>0.0</td>\n",
       "      <td>0.0</td>\n",
       "      <td>1.0</td>\n",
       "      <td>0.0</td>\n",
       "      <td>0.0</td>\n",
       "      <td>0.0</td>\n",
       "      <td>1.0</td>\n",
       "      <td>0.0</td>\n",
       "      <td>0.0</td>\n",
       "      <td>...</td>\n",
       "      <td>836.0</td>\n",
       "      <td>192.0</td>\n",
       "      <td>84.0</td>\n",
       "      <td>0.0</td>\n",
       "      <td>0.0</td>\n",
       "      <td>0.0</td>\n",
       "      <td>0.0</td>\n",
       "      <td>0.0</td>\n",
       "      <td>12.0</td>\n",
       "      <td>2008.0</td>\n",
       "    </tr>\n",
       "  </tbody>\n",
       "</table>\n",
       "<p>5 rows × 311 columns</p>\n",
       "</div>"
      ],
      "text/plain": [
       "   0    1    2    3    4    5    6    7    8    9    ...    301    302   303  \\\n",
       "0  0.0  0.0  0.0  1.0  0.0  0.0  0.0  1.0  0.0  0.0  ...  548.0    0.0  61.0   \n",
       "1  0.0  0.0  0.0  1.0  0.0  0.0  0.0  1.0  0.0  0.0  ...  460.0  298.0   0.0   \n",
       "2  0.0  0.0  0.0  1.0  0.0  0.0  0.0  1.0  0.0  0.0  ...  608.0    0.0  42.0   \n",
       "3  0.0  0.0  0.0  1.0  0.0  0.0  0.0  1.0  0.0  0.0  ...  642.0    0.0  35.0   \n",
       "4  0.0  0.0  0.0  1.0  0.0  0.0  0.0  1.0  0.0  0.0  ...  836.0  192.0  84.0   \n",
       "\n",
       "     304  305  306  307  308   309     310  \n",
       "0    0.0  0.0  0.0  0.0  0.0   2.0  2008.0  \n",
       "1    0.0  0.0  0.0  0.0  0.0   5.0  2007.0  \n",
       "2    0.0  0.0  0.0  0.0  0.0   9.0  2008.0  \n",
       "3  272.0  0.0  0.0  0.0  0.0   2.0  2006.0  \n",
       "4    0.0  0.0  0.0  0.0  0.0  12.0  2008.0  \n",
       "\n",
       "[5 rows x 311 columns]"
      ]
     },
     "execution_count": 203,
     "metadata": {},
     "output_type": "execute_result"
    }
   ],
   "source": [
    "#One Hot Encoding is broken!\n",
    "from sklearn.preprocessing import OneHotEncoder\n",
    "string_indexs_minus1 = []\n",
    "for i in string_indexs:\n",
    "    string_indexs_minus1.append(i -1)\n",
    "\n",
    "print(string_indexs_minus1)   \n",
    "onehotencoder = OneHotEncoder(categorical_features = string_indexs_minus1)\n",
    "X_onehot = onehotencoder.fit_transform(X).toarray()\n",
    "X = pd.DataFrame(X_onehot)\n",
    "X.head()"
   ]
  },
  {
   "cell_type": "code",
   "execution_count": 204,
   "metadata": {},
   "outputs": [
    {
     "name": "stdout",
     "output_type": "stream",
     "text": [
      "Ridge Regression(All Features - Label Encoding & OHE):                    46695.71169724723\n"
     ]
    }
   ],
   "source": [
    "\n",
    "ridge_r = Ridge(alpha=1.0)\n",
    "accuracy_list_rr_all_ohe = cross_val_score(ridge_r, X, y, cv=10, scoring='neg_mean_squared_error')\n",
    "#ridge_r = ridge_r.fit(X_train, y_train) \n",
    "\n",
    "\n",
    "# function cross_val_score performs Cross Validation:\n",
    "\n",
    "\n",
    "rmse_list_rr_all_ohe = []\n",
    "for l in accuracy_list_rr_all_ohe:\n",
    "    x = np.sqrt(-1* l)\n",
    "    rmse_list_rr_all_ohe.append(x)\n",
    "    \n",
    "print(\"Ridge Regression(All Features - Label Encoding & OHE):                   \", List_Average(rmse_list_rr_all_ohe))"
   ]
  },
  {
   "cell_type": "markdown",
   "metadata": {},
   "source": [
    "### RMSE = 46695.71\n",
    "The RMSE is higher now in comparison to before using OHE.\n",
    "\n",
    "It might be because of the total amount of features we have.\n",
    "\n",
    "In the next step we are going to use Dimensionality Reduction to see if that lowers the RMSE.\n"
   ]
  },
  {
   "cell_type": "markdown",
   "metadata": {},
   "source": [
    "## 5e.) Ridge Regression on all features with LE and OHE (With dimensionality reduction)"
   ]
  },
  {
   "cell_type": "code",
   "execution_count": 97,
   "metadata": {},
   "outputs": [
    {
     "name": "stdout",
     "output_type": "stream",
     "text": [
      "['MSSubClass', 'LotFrontage', 'LotArea', 'OverallQual', 'OverallCond', 'YearBuilt', 'YearRemodAdd', 'MasVnrArea', 'BsmtFinSF1', 'BsmtFinSF2', 'BsmtUnfSF', 'TotalBsmtSF', '1stFlrSF', '2ndFlrSF', 'LowQualFinSF', 'GrLivArea', 'BsmtFullBath', 'BsmtHalfBath', 'FullBath', 'HalfBath', 'BedroomAbvGr', 'KitchenAbvGr', 'TotRmsAbvGrd', 'Fireplaces', 'GarageYrBlt', 'GarageCars', 'GarageArea', 'WoodDeckSF', 'OpenPorchSF', 'EnclosedPorch', '3SsnPorch', 'ScreenPorch', 'PoolArea', 'MiscVal', 'MoSold', 'YrSold']\n"
     ]
    }
   ],
   "source": [
    "column_list = []\n",
    "for col in houses_df.columns: \n",
    "    column_list.append(col)\n",
    "all_features = column_list[1:-1]\n",
    "#print(all_features)\n",
    "\n",
    "\n",
    "#List of features that DO NOT need to be label encoded!\n",
    "#On the CSV, A = 1, B = 2, etc.\n",
    "nums = [2,4,5,18,19,20,21,27,35,37,38,39,44,45,46,47,48,49,50,51,52,53,55,57,\n",
    "                   60,62,63,67,68,69,70,71,72,76,77,78]\n",
    "\n",
    "#Need to edit nums so that the features are correctly indexed!\n",
    "num_features = []\n",
    "for x in nums:\n",
    "    num_features.append(x -1)\n",
    "\n",
    "numeric_features =[]\n",
    "for x in column_list:\n",
    "    if len(num_features) > 0 and x == column_list[num_features[0]]:\n",
    "       # print(x, \" \", num_features[0])\n",
    "        numeric_features.append(x)\n",
    "        num_features.pop(0)\n",
    "            \n",
    "            \n",
    "print(numeric_features)"
   ]
  },
  {
   "cell_type": "code",
   "execution_count": 98,
   "metadata": {},
   "outputs": [
    {
     "name": "stderr",
     "output_type": "stream",
     "text": [
      "C:\\Users\\rpera\\Anaconda3\\lib\\site-packages\\ipykernel_launcher.py:9: SettingWithCopyWarning: \n",
      "A value is trying to be set on a copy of a slice from a DataFrame.\n",
      "Try using .loc[row_indexer,col_indexer] = value instead\n",
      "\n",
      "See the caveats in the documentation: http://pandas.pydata.org/pandas-docs/stable/indexing.html#indexing-view-versus-copy\n",
      "  if __name__ == '__main__':\n"
     ]
    },
    {
     "name": "stdout",
     "output_type": "stream",
     "text": [
      "[1, 4, 5, 6, 7, 8, 9, 10, 11, 12, 13, 14, 15, 20, 21, 22, 23, 24, 26, 27, 28, 29, 30, 31, 32, 34, 38, 39, 40, 41, 52, 54, 56, 57, 59, 62, 63, 64, 71, 72, 73, 77, 78]\n"
     ]
    },
    {
     "name": "stderr",
     "output_type": "stream",
     "text": [
      "C:\\Users\\rpera\\Anaconda3\\lib\\site-packages\\pandas\\core\\frame.py:4034: SettingWithCopyWarning: \n",
      "A value is trying to be set on a copy of a slice from a DataFrame\n",
      "\n",
      "See the caveats in the documentation: http://pandas.pydata.org/pandas-docs/stable/indexing.html#indexing-view-versus-copy\n",
      "  downcast=downcast, **kwargs)\n",
      "C:\\Users\\rpera\\Anaconda3\\lib\\site-packages\\sklearn\\preprocessing\\_encoders.py:451: DeprecationWarning: The 'categorical_features' keyword is deprecated in version 0.20 and will be removed in 0.22. You can use the ColumnTransformer instead.\n",
      "  \"use the ColumnTransformer instead.\", DeprecationWarning)\n"
     ]
    }
   ],
   "source": [
    "# Get X from the training data\n",
    "X = houses_df[all_features]\n",
    "# select the target (last column) from the DataFrame\n",
    "y = houses_df['SalePrice']\n",
    "#X.head()\n",
    "label_encoder = preprocessing.LabelEncoder()\n",
    "for feat in string_features:\n",
    "    #print(feat)\n",
    "    X[feat] = label_encoder.fit_transform(X[feat].astype(str))\n",
    "#Need to replace NaN with 0 or else LinearRegression will not work.\n",
    "X.fillna(0, inplace=True)\n",
    "\n",
    "#One Hot Encoding is broken!\n",
    "from sklearn.preprocessing import OneHotEncoder\n",
    "string_indexs_minus1 = []\n",
    "for i in string_indexs:\n",
    "    string_indexs_minus1.append(i -1)\n",
    "\n",
    "print(string_indexs_minus1)   \n",
    "onehotencoder = OneHotEncoder(categorical_features = string_indexs_minus1)\n",
    "X_onehot = onehotencoder.fit_transform(X).toarray()\n",
    "X = pd.DataFrame(X_onehot)\n"
   ]
  },
  {
   "cell_type": "code",
   "execution_count": 99,
   "metadata": {},
   "outputs": [],
   "source": [
    "from  sklearn.decomposition import PCA\n",
    "n = 10\n",
    "my_pca = PCA(n_components=n)\n",
    "X = my_pca.fit_transform(X)\n"
   ]
  },
  {
   "cell_type": "code",
   "execution_count": 100,
   "metadata": {},
   "outputs": [
    {
     "name": "stdout",
     "output_type": "stream",
     "text": [
      "Ridge Regression(All Features - Label Encoding & OHE. Decompressed):           44689.69881137482\n"
     ]
    }
   ],
   "source": [
    "\n",
    "ridge_r = Ridge(alpha=1.0)\n",
    "accuracy_list_rr_dec = cross_val_score(ridge_r, X, y, cv=10, scoring='neg_mean_squared_error')\n",
    "#ridge_r = ridge_r.fit(X_train, y_train) \n",
    "\n",
    "\n",
    "# function cross_val_score performs Cross Validation:\n",
    "\n",
    "\n",
    "rmse_list_rr_dec = []\n",
    "for l in accuracy_list_rr_dec:\n",
    "    x = np.sqrt(-1* l)\n",
    "    rmse_list_rr_dec.append(x)\n",
    "    \n",
    "print(\"Ridge Regression(All Features - Label Encoding & OHE. Decompressed):          \", List_Average(rmse_list_rr_dec))"
   ]
  },
  {
   "cell_type": "markdown",
   "metadata": {},
   "source": [
    "### RMSE = 44689.69\n",
    "This is the new lowest RMSE.\n",
    "By combining all of the features into 10, we get as much information as possible while not overcomplicating the model."
   ]
  },
  {
   "cell_type": "code",
   "execution_count": 101,
   "metadata": {},
   "outputs": [
    {
     "data": {
      "image/png": "[encoded data removed]",
      "text/plain": [
       "<Figure size 432x288 with 1 Axes>"
      ]
     },
     "metadata": {
      "needs_background": "light"
     },
     "output_type": "display_data"
    }
   ],
   "source": [
    "data_points1 =rmse_list_rr_10\n",
    "data_points2 =rmse_list_rr_10_ohe\n",
    "data_points3 =rmse_list_rr_all\n",
    "data_points4 =rmse_list_rr_all_ohe\n",
    "data_points5 =rmse_list_rr_dec\n",
    "\n",
    "x_values = range(1, len(rmse_list_rr_10)+1)\n",
    "\n",
    "# solution\n",
    "a, b = best_fit(x_values, data_points1)\n",
    "c, d = best_fit(x_values, data_points2)\n",
    "e, f = best_fit(x_values, data_points3)\n",
    "g, h = best_fit(x_values, data_points4)\n",
    "i, j = best_fit(x_values, data_points5)\n",
    "\n",
    "\n",
    "# plot points and fit line\n",
    "plt.scatter(x_values, data_points1,color='red',s=100)\n",
    "yfit = [a + b * xi for xi in x_values]\n",
    "line1, =plt.plot(x_values, yfit,linewidth = 3,color='red', markerfacecolor='red', markersize=12, label='10 Features - LE Only')\n",
    "\n",
    "plt.scatter(x_values, data_points2,color='orange',s=100)\n",
    "yfit2 = [c + d * xi for xi in x_values]\n",
    "line2, =plt.plot(x_values, yfit2,linewidth = 3,color='orange', markerfacecolor='orange', markersize=12, label='10 Features - LE & OHE')\n",
    "\n",
    "plt.scatter(x_values, data_points3,color='yellow',s=100)\n",
    "yfit3 = [e + f * xi for xi in x_values]\n",
    "line3, =plt.plot(x_values, yfit3,linewidth = 3,color='yellow', markerfacecolor='yellow', markersize=12, label='All Features - LE Only')\n",
    "\n",
    "plt.scatter(x_values, data_points4,color='green',s=100)\n",
    "yfit4 = [g + h * xi for xi in x_values]\n",
    "line4, =plt.plot(x_values, yfit4,linewidth = 3,color='green', markerfacecolor='green', markersize=12, label='All Features - LE & OHE')\n",
    "\n",
    "plt.scatter(x_values, data_points5,color='blue',s=100)\n",
    "yfit5 = [i + j * xi for xi in x_values]\n",
    "line5, =plt.plot(x_values, yfit4,linewidth = 3,color='blue', markerfacecolor='blue', markersize=12, label='All Features - LE & OHE & DEC')\n",
    "\n",
    "\n",
    "#line1, = plt.plot(x_values, data_points1,color='red', linestyle='dashed', linewidth = 3, marker='o', markerfacecolor='red', markersize=12, label='All Features - LE Only')\n",
    "plt.legend(handles=[line1,line2,line3,line4,line5])\n",
    "\n",
    "# naming the x axis \n",
    "plt.xlabel('Cross Validation Folds') \n",
    "# naming the y axis \n",
    "plt.ylabel('RMSE') \n",
    "  \n",
    "# giving a title the graph\n",
    "plt.title('Ridge Regression')\n",
    "plt.show()"
   ]
  },
  {
   "cell_type": "markdown",
   "metadata": {},
   "source": [
    "## 6.) Stacking Models\n",
    "In this section we are going to try and combine some of the best models we have used so far, and see if they give us better results.\n"
   ]
  },
  {
   "cell_type": "markdown",
   "metadata": {},
   "source": [
    "### **Need to instal mlxtend for this section to work**\n",
    "pip install mlxtend \n",
    "run this command in your anaconda prompt and it will work"
   ]
  },
  {
   "cell_type": "code",
   "execution_count": 213,
   "metadata": {},
   "outputs": [],
   "source": [
    "from mlxtend.regressor import StackingRegressor\n",
    "from sklearn.linear_model import LinearRegression\n",
    "from sklearn.linear_model import Ridge\n",
    "from sklearn.svm import SVR\n",
    "from sklearn import linear_model\n",
    "from sklearn.ensemble import RandomForestRegressor\n",
    "\n",
    "regr = RandomForestRegressor(max_depth=4, random_state=0,n_estimators=100)\n",
    "lasso = linear_model.Lasso(alpha=0.1)\n",
    "lr = LinearRegression()\n",
    "ridge_r = Ridge(alpha=1.0)\n",
    "svr = SVR(gamma='scale', C=1.0, epsilon=0.2)\n"
   ]
  },
  {
   "cell_type": "code",
   "execution_count": 214,
   "metadata": {},
   "outputs": [],
   "source": [
    "column_list = []\n",
    "for col in houses_df.columns: \n",
    "    column_list.append(col)\n",
    "all_features = column_list[1:-1]\n",
    "\n",
    "\n",
    "#List of features that DO NOT need to be label encoded!\n",
    "#On the CSV, A = 1, B = 2, etc.\n",
    "nums = [2,4,5,18,19,20,21,27,35,37,38,39,44,45,46,47,48,49,50,51,52,53,55,57,\n",
    "                   60,62,63,67,68,69,70,71,72,76,77,78]\n",
    "\n",
    "#Need to edit nums so that the features are correctly indexed!\n",
    "num_features = []\n",
    "for x in nums:\n",
    "    num_features.append(x -1)\n",
    "\n",
    "numeric_features =[]\n",
    "for x in column_list:\n",
    "    if len(num_features) > 0 and x == column_list[num_features[0]]:\n",
    "       # print(x, \" \", num_features[0])\n",
    "        numeric_features.append(x)\n",
    "        num_features.pop(0)\n",
    "            "
   ]
  },
  {
   "cell_type": "code",
   "execution_count": 218,
   "metadata": {},
   "outputs": [
    {
     "name": "stdout",
     "output_type": "stream",
     "text": [
      "Stack 1 = Linear Regression, Lasso, and Ridge Regression: Meta=Linear\n",
      "Stack 1(All Features - Label Encoding & OHE. Decompressed):           44689.69884759191\n",
      "Stack 1(All Features - Label Encoding. Decompressed):           44689.69879975745\n",
      "Stack 2 = Ridge Regression, Random Forest, and Lasso: Meta=Ridge\n",
      "Stack 2(All Features - Label Encoding & OHE. Decompressed):           47846.93101723774\n",
      "Stack 2(All Features - Label Encoding. Decompressed):           47846.924657818665\n",
      "Stack 3 = Ridge Regression, Random Forest, Lasso, and Linear: Meta=Lasso\n",
      "Stack 3(All Features - Label Encoding & OHE. Decompressed):           46770.145137421976\n",
      "Stack 3(All Features - Label Encoding. Decompressed):           46769.87221436824\n"
     ]
    }
   ],
   "source": [
    "# Get X from the training data\n",
    "X = houses_df[all_features]\n",
    "# select the target (last column) from the DataFrame\n",
    "y = houses_df['SalePrice']\n",
    "#X.head()\n",
    "\n",
    "label_encoder = preprocessing.LabelEncoder()\n",
    "for feat in string_features:\n",
    "    #print(feat)\n",
    "    X[feat] = label_encoder.fit_transform(X[feat].astype(str))\n",
    "#Need to replace NaN with 0 or else LinearRegression will not work.\n",
    "X.fillna(0, inplace=True)\n",
    "\n",
    "\n",
    "#One Hot Encoding is broken!\n",
    "from sklearn.preprocessing import OneHotEncoder\n",
    "string_indexs_minus1 = []\n",
    "for i in string_indexs:\n",
    "    string_indexs_minus1.append(i -1)\n",
    "\n",
    "#print(string_indexs_minus1)   \n",
    "onehotencoder = OneHotEncoder(categorical_features = string_indexs_minus1)\n",
    "X_onehot = onehotencoder.fit_transform(X).toarray()\n",
    "X2 = pd.DataFrame(X_onehot)\n",
    "\n",
    "\n",
    "from  sklearn.decomposition import PCA\n",
    "n = 10\n",
    "my_pca = PCA(n_components=n)\n",
    "X = my_pca.fit_transform(X)\n",
    "X2 = my_pca.fit_transform(X2)\n",
    "\n",
    "\n",
    "\n",
    "\n",
    "\n",
    "\n",
    "stregr = StackingRegressor(regressors=[lr,lasso , ridge_r], meta_regressor=lr)\n",
    "stregr2 = StackingRegressor(regressors=[svr, regr, lasso], meta_regressor=svr)\n",
    "stregr3 = StackingRegressor(regressors=[ridge_r, regr, lasso, lr], meta_regressor=lasso)\n",
    "\n",
    "accuracy_list_stack1_ohe = cross_val_score(stregr, X, y, cv=10, scoring='neg_mean_squared_error')\n",
    "accuracy_list_stack1 = cross_val_score(stregr, X2, y, cv=10, scoring='neg_mean_squared_error')\n",
    "\n",
    "accuracy_list_stack2_ohe = cross_val_score(stregr2, X, y, cv=10, scoring='neg_mean_squared_error')\n",
    "accuracy_list_stack2 = cross_val_score(stregr2, X2, y, cv=10, scoring='neg_mean_squared_error')\n",
    "\n",
    "accuracy_list_stack3_ohe = cross_val_score(stregr3, X, y, cv=10, scoring='neg_mean_squared_error')\n",
    "accuracy_list_stack3 = cross_val_score(stregr3, X2, y, cv=10, scoring='neg_mean_squared_error')\n",
    "# function cross_val_score performs Cross Validation:\n",
    "\n",
    "rmse_stack1_ohe = []\n",
    "rmse_stack1 = []\n",
    "for l in accuracy_list_stack1_ohe:\n",
    "    x = np.sqrt(-1* l)\n",
    "    rmse_stack1_ohe.append(x)\n",
    "\n",
    "for l in accuracy_list_stack1:\n",
    "    x = np.sqrt(-1* l)\n",
    "    rmse_stack1.append(x)\n",
    "print(\"Stack 1 = Linear Regression, Lasso, and Ridge Regression\")\n",
    "print(\"Stack 1(All Features - Label Encoding & OHE. Decompressed):          \", List_Average(rmse_stack1_ohe))   \n",
    "print(\"Stack 1(All Features - Label Encoding. Decompressed):          \", List_Average(rmse_stack1))\n",
    "\n",
    "rmse_stack2_ohe = []\n",
    "rmse_stack2 = []\n",
    "for l in accuracy_list_stack2_ohe:\n",
    "    x = np.sqrt(-1* l)\n",
    "    rmse_stack2_ohe.append(x)\n",
    "\n",
    "for l in accuracy_list_stack2:\n",
    "    x = np.sqrt(-1* l)\n",
    "    rmse_stack2.append(x)\n",
    "print(\"Stack 2 = SVR, Random Forest, and Lasso\")\n",
    "print(\"Stack 2(All Features - Label Encoding & OHE. Decompressed):          \", List_Average(rmse_stack2_ohe))   \n",
    "print(\"Stack 2(All Features - Label Encoding. Decompressed):          \", List_Average(rmse_stack2))\n",
    "\n",
    "rmse_stack3_ohe = []\n",
    "rmse_stack3 = []\n",
    "for l in accuracy_list_stack3_ohe:\n",
    "    x = np.sqrt(-1* l)\n",
    "    rmse_stack3_ohe.append(x)\n",
    "\n",
    "for l in accuracy_list_stack3:\n",
    "    x = np.sqrt(-1* l)\n",
    "    rmse_stack3.append(x)\n",
    "print(\"Stack 3 = Ridge Regression, Random Forest, Lasso, and Linear\")\n",
    "print(\"Stack 3(All Features - Label Encoding & OHE. Decompressed):          \", List_Average(rmse_stack3_ohe))   \n",
    "print(\"Stack 3(All Features - Label Encoding. Decompressed):          \", List_Average(rmse_stack3))"
   ]
  },
  {
   "cell_type": "markdown",
   "metadata": {},
   "source": [
    "## Stack 1 with no OHE gave us the best results from the stacks.\n",
    "\n",
    "RMSE = 44689.698\n",
    "\n",
    "However, the RMSE for Stack 1 with OHE is only .001 worse. They are very similar."
   ]
  },
  {
   "cell_type": "code",
   "execution_count": 222,
   "metadata": {},
   "outputs": [
    {
     "name": "stdout",
     "output_type": "stream",
     "text": [
      "Stack 1 = Linear Regression, Lasso, and Ridge Regression\n",
      "Stack 2 = SVR, Random Forest, and Lasso\n",
      "Stack 3 = Ridge Regression, Random Forest, Lasso, and Linear\n"
     ]
    },
    {
     "data": {
      "image/png": "[encoded data removed]",
      "text/plain": [
       "<Figure size 432x288 with 1 Axes>"
      ]
     },
     "metadata": {
      "needs_background": "light"
     },
     "output_type": "display_data"
    }
   ],
   "source": [
    "data_points1 =rmse_stack1_ohe\n",
    "data_points2 =rmse_stack1\n",
    "data_points3 =rmse_stack2_ohe\n",
    "data_points4 =rmse_stack2\n",
    "data_points5 =rmse_stack3_ohe\n",
    "data_points6 =rmse_stack3\n",
    "\n",
    "x_values = range(1, len(rmse_stack1_ohe)+1)\n",
    "\n",
    "# solution\n",
    "a, b = best_fit(x_values, data_points1)\n",
    "c, d = best_fit(x_values, data_points2)\n",
    "e, f = best_fit(x_values, data_points3)\n",
    "g, h = best_fit(x_values, data_points4)\n",
    "i, j = best_fit(x_values, data_points5)\n",
    "k, l = best_fit(x_values, data_points6)\n",
    "\n",
    "\n",
    "# plot points and fit line\n",
    "plt.scatter(x_values, data_points1,color='red',s=100,alpha=.5)\n",
    "yfit = [a + b * xi for xi in x_values]\n",
    "line1, =plt.plot(x_values, yfit,linewidth = 3,color='red',alpha=.5, markerfacecolor='red', markersize=12, label='Stack1 - OHE')\n",
    "\n",
    "plt.scatter(x_values, data_points2,color='orange',s=100,alpha=.5)\n",
    "yfit2 = [c + d * xi for xi in x_values]\n",
    "line2, =plt.plot(x_values, yfit2,linewidth = 3,color='orange',alpha=.5, markerfacecolor='orange', markersize=12, label='Stack1')\n",
    "\n",
    "plt.scatter(x_values, data_points3,color='yellow',s=100,alpha=.5)\n",
    "yfit3 = [e + f * xi for xi in x_values]\n",
    "line3, =plt.plot(x_values, yfit3,linewidth = 3,color='yellow',alpha=.5, markerfacecolor='yellow', markersize=12, label='Stack2 - OHE')\n",
    "\n",
    "plt.scatter(x_values, data_points4,color='green',s=100)\n",
    "yfit4 = [g + h * xi for xi in x_values]\n",
    "line4, =plt.plot(x_values, yfit4,linewidth = 3,color='green',alpha=.5, markerfacecolor='green', markersize=12, label='Stack2')\n",
    "\n",
    "plt.scatter(x_values, data_points5,color='blue',s=100,alpha=.5)\n",
    "yfit5 = [i + j * xi for xi in x_values]\n",
    "line5, =plt.plot(x_values, yfit4,linewidth = 3,color='blue',alpha=.5, markerfacecolor='blue', markersize=12, label='Stack3 - OHE')\n",
    "\n",
    "plt.scatter(x_values, data_points4,color='violet',s=100,alpha=.5)\n",
    "yfit6 = [g + h * xi for xi in x_values]\n",
    "line6, =plt.plot(x_values, yfit4,linewidth = 3,color='violet',alpha=.5, markerfacecolor='violet', markersize=12, label='Stack3')\n",
    "\n",
    "\n",
    "#line1, = plt.plot(x_values, data_points1,color='red', linestyle='dashed', linewidth = 3, marker='o', markerfacecolor='red', markersize=12, label='All Features - LE Only')\n",
    "plt.legend(handles=[line1,line2,line3,line4,line5,line6])\n",
    "\n",
    "print(\"Stack 1 = Linear Regression, Lasso, and Ridge Regression\")\n",
    "print(\"Stack 2 = SVR, Random Forest, and Lasso\")\n",
    "print(\"Stack 3 = Ridge Regression, Random Forest, Lasso, and Linear\")\n",
    "# naming the x axis \n",
    "plt.xlabel('Cross Validation Folds') \n",
    "# naming the y axis \n",
    "plt.ylabel('RMSE') \n",
    "  \n",
    "# giving a title the graph\n",
    "plt.title('Stack Regression Models')\n",
    "plt.show()"
   ]
  },
  {
   "cell_type": "markdown",
   "metadata": {},
   "source": [
    "# 7.) Final Results\n",
    "Here we are going to compare the best value from each model and see what is the best."
   ]
  },
  {
   "cell_type": "code",
   "execution_count": 223,
   "metadata": {},
   "outputs": [
    {
     "name": "stdout",
     "output_type": "stream",
     "text": [
      "1. Linear Regression:          RMSE = 45200.43 (Label Encoding)\n",
      "2. Lasso Regression:           RMSE = 44689.69 (Label Encoding, One Hot Encoding, and Feature Decomposition)\n",
      "3. SVR Regression:             RMSE = 47922.98 (Label Encoding, One Hot Encoding, and Feature Decomposition)\n",
      "4. Random Forest Regression:   RMSE = 45411.54 (Label Encoding and Feature Decomposition)\n",
      "5. Ridge Regression:           RMSE = 44689.69 (Label Encoding, One Hot Encoding, and Feature Decomposition)\n",
      "6. Regression Stack:           RMSE = 44689.69 (Linear Regression, Lasso, and Ridge Regression)\n"
     ]
    }
   ],
   "source": [
    "print(\"1. Linear Regression:          RMSE = 45200.43 (Label Encoding)\")\n",
    "print(\"2. Lasso Regression:           RMSE = 44689.69 (Label Encoding, One Hot Encoding, and Feature Decomposition)\")\n",
    "print(\"3. SVR Regression:             RMSE = 47922.98 (Label Encoding, One Hot Encoding, and Feature Decomposition)\")\n",
    "print(\"4. Random Forest Regression:   RMSE = 45411.54 (Label Encoding and Feature Decomposition)\")\n",
    "print(\"5. Ridge Regression:           RMSE = 44689.69 (Label Encoding, One Hot Encoding, and Feature Decomposition)\")\n",
    "print(\"6. Regression Stack:           RMSE = 44689.69 (Linear Regression, Lasso, and Ridge Regression)\")"
   ]
  },
  {
   "cell_type": "code",
   "execution_count": 225,
   "metadata": {},
   "outputs": [
    {
     "data": {
      "image/png": "[encoded data removed]",
      "text/plain": [
       "<Figure size 432x288 with 1 Axes>"
      ]
     },
     "metadata": {
      "needs_background": "light"
     },
     "output_type": "display_data"
    }
   ],
   "source": [
    "data_points1 =rmse_list_lr_all\n",
    "data_points2 =rmse_lasso_ohe_dec\n",
    "data_points3 =rmse_list_svr_dec\n",
    "data_points4 =rmse_rf_dec\n",
    "data_points5 =rmse_list_rr_dec\n",
    "data_points6 =rmse_stack1\n",
    "\n",
    "x_values = range(1, len(rmse_stack1_ohe)+1)\n",
    "\n",
    "# solution\n",
    "a, b = best_fit(x_values, data_points1)\n",
    "c, d = best_fit(x_values, data_points2)\n",
    "e, f = best_fit(x_values, data_points3)\n",
    "g, h = best_fit(x_values, data_points4)\n",
    "i, j = best_fit(x_values, data_points5)\n",
    "k, l = best_fit(x_values, data_points6)\n",
    "\n",
    "\n",
    "# plot points and fit line\n",
    "plt.scatter(x_values, data_points1,color='red',s=100,alpha=.5)\n",
    "yfit = [a + b * xi for xi in x_values]\n",
    "line1, =plt.plot(x_values, yfit,linewidth = 3,color='red',alpha=.5, markerfacecolor='red', markersize=12, label='Linear')\n",
    "\n",
    "plt.scatter(x_values, data_points2,color='orange',s=100,alpha=.5)\n",
    "yfit2 = [c + d * xi for xi in x_values]\n",
    "line2, =plt.plot(x_values, yfit2,linewidth = 3,color='orange',alpha=.5, markerfacecolor='orange', markersize=12, label='Lasso')\n",
    "\n",
    "plt.scatter(x_values, data_points3,color='yellow',s=100,alpha=.5)\n",
    "yfit3 = [e + f * xi for xi in x_values]\n",
    "line3, =plt.plot(x_values, yfit3,linewidth = 3,color='yellow',alpha=.5, markerfacecolor='yellow', markersize=12, label='SVR')\n",
    "\n",
    "plt.scatter(x_values, data_points4,color='green',s=100)\n",
    "yfit4 = [g + h * xi for xi in x_values]\n",
    "line4, =plt.plot(x_values, yfit4,linewidth = 3,color='green',alpha=.5, markerfacecolor='green', markersize=12, label='Random Forest')\n",
    "\n",
    "plt.scatter(x_values, data_points5,color='blue',s=100,alpha=.5)\n",
    "yfit5 = [i + j * xi for xi in x_values]\n",
    "line5, =plt.plot(x_values, yfit4,linewidth = 3,color='blue',alpha=.5, markerfacecolor='blue', markersize=12, label='Ridge')\n",
    "\n",
    "plt.scatter(x_values, data_points4,color='violet',s=100,alpha=.5)\n",
    "yfit6 = [g + h * xi for xi in x_values]\n",
    "line6, =plt.plot(x_values, yfit4,linewidth = 3,color='violet',alpha=.5, markerfacecolor='violet', markersize=12, label='Stack')\n",
    "\n",
    "\n",
    "#line1, = plt.plot(x_values, data_points1,color='red', linestyle='dashed', linewidth = 3, marker='o', markerfacecolor='red', markersize=12, label='All Features - LE Only')\n",
    "plt.legend(handles=[line1,line2,line3,line4,line5,line6])\n",
    "\n",
    "# naming the x axis \n",
    "plt.xlabel('Cross Validation Folds') \n",
    "# naming the y axis \n",
    "plt.ylabel('RMSE') \n",
    "  \n",
    "# giving a title the graph\n",
    "plt.title('Predictive Models')\n",
    "plt.show()"
   ]
  },
  {
   "cell_type": "markdown",
   "metadata": {},
   "source": [
    "# Lasso, Ridge, and the Stack are the best predictive models.\n",
    "Lasso and Ridge come from the same import (from sklearn import linear_model), so they might be very similar in the underlying implementation. The stack also has the same results since the meta_regressor for the stack is ridge.\n",
    "\n",
    "Ultimatley we were able to get the RMSE smaller due to using a variety of different techniques such as Label encoding and One Hot Encoding. Altough it is still possible to better the results, I am happy with the results and hope to revist this problem in the future.\n",
    "\n",
    "# RMSE = 44689.69"
   ]
  },
  {
   "cell_type": "code",
   "execution_count": null,
   "metadata": {},
   "outputs": [],
   "source": []
  }
 ],
 "metadata": {
  "kernelspec": {
   "display_name": "Python 3",
   "language": "python",
   "name": "python3"
  },
  "language_info": {
   "codemirror_mode": {
    "name": "ipython",
    "version": 3
   },
   "file_extension": ".py",
   "mimetype": "text/x-python",
   "name": "python",
   "nbconvert_exporter": "python",
   "pygments_lexer": "ipython3",
   "version": "3.7.3"
  }
 },
 "nbformat": 4,
 "nbformat_minor": 2
}
